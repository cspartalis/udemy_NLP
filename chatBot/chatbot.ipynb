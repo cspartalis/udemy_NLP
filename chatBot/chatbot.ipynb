{
 "cells": [
  {
   "cell_type": "code",
   "execution_count": 79,
   "metadata": {},
   "outputs": [],
   "source": [
    "import pickle   #specialized format for data\n",
    "import numpy as np"
   ]
  },
  {
   "cell_type": "code",
   "execution_count": 80,
   "metadata": {},
   "outputs": [],
   "source": [
    "with open('train_qa.txt', 'rb') as f:   #read as binary\n",
    "    train_data = pickle.load(f)"
   ]
  },
  {
   "cell_type": "code",
   "execution_count": 81,
   "metadata": {},
   "outputs": [],
   "source": [
    "with open('test_qa.txt', 'rb') as f:   #read as binary\n",
    "    test_data = pickle.load(f)"
   ]
  },
  {
   "cell_type": "markdown",
   "metadata": {},
   "source": [
    "10000 points for trainig data and <br>\n",
    "1000 points for test data <br>\n",
    "each training example is a tuple (story, question, answer)"
   ]
  },
  {
   "cell_type": "code",
   "execution_count": 82,
   "metadata": {},
   "outputs": [
    {
     "name": "stdout",
     "output_type": "stream",
     "text": [
      "38\n"
     ]
    }
   ],
   "source": [
    "'''\n",
    "Creating the vocabulary\n",
    "'''\n",
    "all_data = test_data + train_data\n",
    "vocab = set()   #set is an unordered list of unique elements\n",
    "\n",
    "for story, question, answer in all_data:\n",
    "    vocab = vocab.union(set(story))\n",
    "    vocab = vocab.union(set(question))\n",
    "    vocab.add('no')\n",
    "    vocab.add('yes')\n",
    "    \n",
    "vocab_len = len(vocab) + 1   #we will use it later\n",
    "print(vocab_len)"
   ]
  },
  {
   "cell_type": "code",
   "execution_count": 83,
   "metadata": {},
   "outputs": [
    {
     "name": "stdout",
     "output_type": "stream",
     "text": [
      "156\n"
     ]
    }
   ],
   "source": [
    "'''\n",
    "We want to the longest story for later use\n",
    "'''\n",
    "all_story_lens = [len(data[0]) for data in all_data]\n",
    "max_story_len = max(all_story_lens)\n",
    "print(max_story_len)"
   ]
  },
  {
   "cell_type": "code",
   "execution_count": 84,
   "metadata": {},
   "outputs": [
    {
     "name": "stdout",
     "output_type": "stream",
     "text": [
      "6\n"
     ]
    }
   ],
   "source": [
    "'''\n",
    "We want to the longest question for later use\n",
    "'''\n",
    "all_question_lens = [len(data[1]) for data in all_data]\n",
    "max_question_len = max(all_question_lens)\n",
    "print(max_question_len)"
   ]
  },
  {
   "cell_type": "code",
   "execution_count": 85,
   "metadata": {},
   "outputs": [],
   "source": [
    "from keras.preprocessing.sequence import pad_sequences\n",
    "from keras.preprocessing.text import Tokenizer"
   ]
  },
  {
   "cell_type": "code",
   "execution_count": 86,
   "metadata": {},
   "outputs": [
    {
     "data": {
      "text/plain": [
       "{'yes': 1,\n",
       " 'kitchen': 2,\n",
       " 'garden': 3,\n",
       " 'went': 4,\n",
       " 'football': 5,\n",
       " 'picked': 6,\n",
       " '?': 7,\n",
       " 'in': 8,\n",
       " 'took': 9,\n",
       " 'moved': 10,\n",
       " 'put': 11,\n",
       " 'apple': 12,\n",
       " 'mary': 13,\n",
       " 'the': 14,\n",
       " 'dropped': 15,\n",
       " 'is': 16,\n",
       " 'to': 17,\n",
       " '.': 18,\n",
       " 'hallway': 19,\n",
       " 'up': 20,\n",
       " 'bedroom': 21,\n",
       " 'journeyed': 22,\n",
       " 'no': 23,\n",
       " 'milk': 24,\n",
       " 'there': 25,\n",
       " 'travelled': 26,\n",
       " 'got': 27,\n",
       " 'back': 28,\n",
       " 'sandra': 29,\n",
       " 'daniel': 30,\n",
       " 'down': 31,\n",
       " 'bathroom': 32,\n",
       " 'office': 33,\n",
       " 'left': 34,\n",
       " 'discarded': 35,\n",
       " 'grabbed': 36,\n",
       " 'john': 37}"
      ]
     },
     "execution_count": 86,
     "metadata": {},
     "output_type": "execute_result"
    }
   ],
   "source": [
    "'''\n",
    "Create a dictionary that maps every word of the vocabularu to an index\n",
    "'''\n",
    "tokenizer = Tokenizer(filters=[])\n",
    "tokenizer.fit_on_texts(vocab)\n",
    "\n",
    "tokenizer.word_index"
   ]
  },
  {
   "cell_type": "code",
   "execution_count": 87,
   "metadata": {},
   "outputs": [],
   "source": [
    "'''\n",
    "Make lists of stories, qustions and answers\n",
    "'''\n",
    "train_story_text = []\n",
    "train_question_text = []\n",
    "train_answer_text = []\n",
    "\n",
    "for story, question, answer in train_data:\n",
    "    train_story_text.append(story)\n",
    "    train_question_text.append(question)\n",
    "    train_answer_text.append(answer)"
   ]
  },
  {
   "cell_type": "code",
   "execution_count": 88,
   "metadata": {},
   "outputs": [],
   "source": [
    "'''\n",
    "Same for test_data\n",
    "'''\n",
    "test_story_text = []\n",
    "test_question_text = []\n",
    "test_answer_text = []\n",
    "\n",
    "for story, question, answer in test_data:\n",
    "    test_story_text.append(story)\n",
    "    test_question_text.append(question)\n",
    "    test_answer_text.append(answer)"
   ]
  },
  {
   "cell_type": "code",
   "execution_count": 89,
   "metadata": {},
   "outputs": [],
   "source": [
    "'''\n",
    "-----CREATE PADDED SEQUENCIES-----\n",
    "VECTORIZING: Conververting words -> indexes,\n",
    "             sentences -> sequencies of integers\n",
    "PADDING: Padding vectors with zeros\n",
    "'''\n",
    "train_story_seq = tokenizer.texts_to_sequences(train_story_text)\n",
    "train_story_seq = pad_sequences(train_story_seq, maxlen=max_story_len)\n",
    "\n",
    "train_question_seq = tokenizer.texts_to_sequences(train_question_text)\n",
    "train_question_seq = pad_sequences(train_question_seq, maxlen=max_question_len)"
   ]
  },
  {
   "cell_type": "code",
   "execution_count": 90,
   "metadata": {},
   "outputs": [],
   "source": [
    "'''\n",
    "Same for test data\n",
    "'''\n",
    "test_story_seq = tokenizer.texts_to_sequences(test_story_text)\n",
    "test_story_seq = pad_sequences(test_story_seq, maxlen=max_story_len)\n",
    "\n",
    "test_question_seq = tokenizer.texts_to_sequences(test_question_text)\n",
    "test_question_seq = pad_sequences(test_question_seq, maxlen=max_question_len)"
   ]
  },
  {
   "cell_type": "code",
   "execution_count": 91,
   "metadata": {},
   "outputs": [
    {
     "name": "stdout",
     "output_type": "stream",
     "text": [
      "Index of \"yes\" is: 1\n",
      "Index of \"no\" is:  23\n"
     ]
    }
   ],
   "source": [
    "print(f'Index of \"yes\" is: {tokenizer.word_index.get(\"yes\")}')\n",
    "print(f'Index of \"no\" is:  {tokenizer.word_index.get(\"no\")}')"
   ]
  },
  {
   "cell_type": "code",
   "execution_count": 92,
   "metadata": {},
   "outputs": [],
   "source": [
    "'''\n",
    "Converting train and test answers to one hot representation\n",
    "'''\n",
    "train_answer_oh = np.zeros(shape=(len(train_data), vocab_len))\n",
    "test_answer_oh = np.zeros(shape=(len(train_data), vocab_len))\n",
    "\n",
    "m = len(train_data)   #m is the number of training examples\n",
    "\n",
    "for i in range(m):   #i is the trainining example\n",
    "    train_answer_oh[i][tokenizer.word_index.get(train_answer_text[i])] = 1\n",
    "\n",
    "y = len(test_data)\n",
    "for i in range(y):\n",
    "    test_answer_oh[i][tokenizer.word_index.get(test_answer_text[i])] = 1\n"
   ]
  },
  {
   "cell_type": "code",
   "execution_count": 93,
   "metadata": {},
   "outputs": [],
   "source": [
    "from keras.models import Sequential, Model\n",
    "from keras.layers.embeddings import Embedding\n",
    "from keras.layers import Input,Activation,Dense,Permute,Dropout,add,dot,concatenate,LSTM"
   ]
  },
  {
   "cell_type": "code",
   "execution_count": 94,
   "metadata": {},
   "outputs": [],
   "source": [
    "# PLACEHOLDER shape=(max_story_len, batch_size)\n",
    "input_sequence = Input((max_story_len,))\n",
    "question = Input((max_question_len,))"
   ]
  },
  {
   "cell_type": "code",
   "execution_count": 95,
   "metadata": {},
   "outputs": [],
   "source": [
    "# INPUT ENCODER M\n",
    "input_encoder_m = Sequential()\n",
    "input_encoder_m.add(Embedding(input_dim=vocab_len, output_dim=64))\n",
    "input_encoder_m.add(Dropout(0.33))\n",
    "\n",
    "# OUTPUT\n",
    "# (m, max_story_len, embedding_dim)"
   ]
  },
  {
   "cell_type": "code",
   "execution_count": 96,
   "metadata": {},
   "outputs": [],
   "source": [
    "# INPUT ENCODER C\n",
    "input_encoder_c = Sequential()\n",
    "input_encoder_c.add(Embedding(input_dim=vocab_len, output_dim=max_question_len))\n",
    "input_encoder_c.add(Dropout(0.33))\n",
    "\n",
    "# OUTPUT\n",
    "# (m, max_story_len, max_question_len)"
   ]
  },
  {
   "cell_type": "code",
   "execution_count": 97,
   "metadata": {},
   "outputs": [],
   "source": [
    "# QUESTION ENCODER\n",
    "question_encoder = Sequential()\n",
    "question_encoder.add(Embedding(input_dim=vocab_len, output_dim=64, input_length=max_question_len))\n",
    "question_encoder.add(Dropout(0.33))\n",
    "\n",
    "# OUTPUT\n",
    "# (m, max_question_len, embedding_dim)"
   ]
  },
  {
   "cell_type": "code",
   "execution_count": 98,
   "metadata": {},
   "outputs": [],
   "source": [
    "# ENCODED --> ENCODER(INPUT)\n",
    "input_encoded_m = input_encoder_m(input_sequence)\n",
    "input_encoded_c = input_encoder_c(input_sequence)\n",
    "question_encoded= question_encoder(question)"
   ]
  },
  {
   "cell_type": "code",
   "execution_count": 99,
   "metadata": {},
   "outputs": [],
   "source": [
    "match = dot([input_encoded_m, question_encoded], axes=(2,2))\n",
    "match = Activation('softmax')(match)"
   ]
  },
  {
   "cell_type": "code",
   "execution_count": 100,
   "metadata": {},
   "outputs": [
    {
     "name": "stdout",
     "output_type": "stream",
     "text": [
      "(None, 156, 6)\n",
      "(None, 6, 156)\n"
     ]
    }
   ],
   "source": [
    "response = add([match, input_encoded_c])\n",
    "print(response.shape)\n",
    "response = Permute((2,1))(response)   #changes the axes\n",
    "print(response.shape)"
   ]
  },
  {
   "cell_type": "code",
   "execution_count": 101,
   "metadata": {},
   "outputs": [
    {
     "data": {
      "text/plain": [
       "TensorShape([None, 6, 64])"
      ]
     },
     "execution_count": 101,
     "metadata": {},
     "output_type": "execute_result"
    }
   ],
   "source": [
    "question_encoded.shape"
   ]
  },
  {
   "cell_type": "code",
   "execution_count": 102,
   "metadata": {},
   "outputs": [
    {
     "data": {
      "text/plain": [
       "TensorShape([None, 6, 220])"
      ]
     },
     "execution_count": 102,
     "metadata": {},
     "output_type": "execute_result"
    }
   ],
   "source": [
    "answer = concatenate([response, question_encoded])\n",
    "answer.shape"
   ]
  },
  {
   "cell_type": "code",
   "execution_count": 103,
   "metadata": {},
   "outputs": [],
   "source": [
    "answer = LSTM(units=32)(answer)"
   ]
  },
  {
   "cell_type": "code",
   "execution_count": 104,
   "metadata": {},
   "outputs": [
    {
     "data": {
      "text/plain": [
       "<tf.Tensor 'dense_2/BiasAdd:0' shape=(None, 38) dtype=float32>"
      ]
     },
     "execution_count": 104,
     "metadata": {},
     "output_type": "execute_result"
    }
   ],
   "source": [
    "answer = Dropout(0.5)(answer)\n",
    "answer = Dense(vocab_len)(answer)   #(samples,vocab_size)\n",
    "answer"
   ]
  },
  {
   "cell_type": "code",
   "execution_count": 105,
   "metadata": {},
   "outputs": [],
   "source": [
    "answer = Activation('softmax')(answer)"
   ]
  },
  {
   "cell_type": "code",
   "execution_count": 106,
   "metadata": {},
   "outputs": [],
   "source": [
    "model = Model([input_sequence,question], answer)"
   ]
  },
  {
   "cell_type": "code",
   "execution_count": 108,
   "metadata": {},
   "outputs": [],
   "source": [
    "model.compile(optimizer='adam', loss='categorical_crossentropy', metrics=['accuracy'])"
   ]
  },
  {
   "cell_type": "code",
   "execution_count": 109,
   "metadata": {},
   "outputs": [
    {
     "name": "stdout",
     "output_type": "stream",
     "text": [
      "Model: \"model_2\"\n",
      "__________________________________________________________________________________________________\n",
      "Layer (type)                    Output Shape         Param #     Connected to                     \n",
      "==================================================================================================\n",
      "input_3 (InputLayer)            (None, 156)          0                                            \n",
      "__________________________________________________________________________________________________\n",
      "input_4 (InputLayer)            (None, 6)            0                                            \n",
      "__________________________________________________________________________________________________\n",
      "sequential_4 (Sequential)       multiple             2432        input_3[0][0]                    \n",
      "__________________________________________________________________________________________________\n",
      "sequential_6 (Sequential)       (None, 6, 64)        2432        input_4[0][0]                    \n",
      "__________________________________________________________________________________________________\n",
      "dot_2 (Dot)                     (None, 156, 6)       0           sequential_4[1][0]               \n",
      "                                                                 sequential_6[1][0]               \n",
      "__________________________________________________________________________________________________\n",
      "activation_3 (Activation)       (None, 156, 6)       0           dot_2[0][0]                      \n",
      "__________________________________________________________________________________________________\n",
      "sequential_5 (Sequential)       multiple             228         input_3[0][0]                    \n",
      "__________________________________________________________________________________________________\n",
      "add_2 (Add)                     (None, 156, 6)       0           activation_3[0][0]               \n",
      "                                                                 sequential_5[1][0]               \n",
      "__________________________________________________________________________________________________\n",
      "permute_2 (Permute)             (None, 6, 156)       0           add_2[0][0]                      \n",
      "__________________________________________________________________________________________________\n",
      "concatenate_2 (Concatenate)     (None, 6, 220)       0           permute_2[0][0]                  \n",
      "                                                                 sequential_6[1][0]               \n",
      "__________________________________________________________________________________________________\n",
      "lstm_2 (LSTM)                   (None, 32)           32384       concatenate_2[0][0]              \n",
      "__________________________________________________________________________________________________\n",
      "dropout_8 (Dropout)             (None, 32)           0           lstm_2[0][0]                     \n",
      "__________________________________________________________________________________________________\n",
      "dense_2 (Dense)                 (None, 38)           1254        dropout_8[0][0]                  \n",
      "__________________________________________________________________________________________________\n",
      "activation_4 (Activation)       (None, 38)           0           dense_2[0][0]                    \n",
      "==================================================================================================\n",
      "Total params: 38,730\n",
      "Trainable params: 38,730\n",
      "Non-trainable params: 0\n",
      "__________________________________________________________________________________________________\n"
     ]
    }
   ],
   "source": [
    "model.summary()"
   ]
  },
  {
   "cell_type": "code",
   "execution_count": 111,
   "metadata": {},
   "outputs": [
    {
     "name": "stdout",
     "output_type": "stream",
     "text": [
      "Epoch 1/200\n",
      "10000/10000 [==============================] - 2s 209us/step - loss: 0.7455 - accuracy: 0.5094\n",
      "Epoch 2/200\n",
      "10000/10000 [==============================] - 2s 200us/step - loss: 0.7327 - accuracy: 0.4984\n",
      "Epoch 3/200\n",
      "10000/10000 [==============================] - 2s 206us/step - loss: 0.7201 - accuracy: 0.5002\n",
      "Epoch 4/200\n",
      "10000/10000 [==============================] - 2s 221us/step - loss: 0.7111 - accuracy: 0.4975\n",
      "Epoch 5/200\n",
      "10000/10000 [==============================] - 3s 252us/step - loss: 0.7080 - accuracy: 0.4942\n",
      "Epoch 6/200\n",
      "10000/10000 [==============================] - 3s 274us/step - loss: 0.7039 - accuracy: 0.5052\n",
      "Epoch 7/200\n",
      "10000/10000 [==============================] - 2s 239us/step - loss: 0.7026 - accuracy: 0.4986\n",
      "Epoch 8/200\n",
      "10000/10000 [==============================] - 2s 250us/step - loss: 0.7012 - accuracy: 0.4989\n",
      "Epoch 9/200\n",
      "10000/10000 [==============================] - 3s 260us/step - loss: 0.6996 - accuracy: 0.5052\n",
      "Epoch 10/200\n",
      "10000/10000 [==============================] - 2s 242us/step - loss: 0.6996 - accuracy: 0.4938\n",
      "Epoch 11/200\n",
      "10000/10000 [==============================] - 3s 253us/step - loss: 0.6987 - accuracy: 0.5010\n",
      "Epoch 12/200\n",
      "10000/10000 [==============================] - 2s 248us/step - loss: 0.6987 - accuracy: 0.4907\n",
      "Epoch 13/200\n",
      "10000/10000 [==============================] - 3s 291us/step - loss: 0.6978 - accuracy: 0.4950\n",
      "Epoch 14/200\n",
      "10000/10000 [==============================] - 3s 269us/step - loss: 0.6976 - accuracy: 0.5026\n",
      "Epoch 15/200\n",
      "10000/10000 [==============================] - 3s 253us/step - loss: 0.6981 - accuracy: 0.4944\n",
      "Epoch 16/200\n",
      "10000/10000 [==============================] - 2s 246us/step - loss: 0.6968 - accuracy: 0.5020\n",
      "Epoch 17/200\n",
      "10000/10000 [==============================] - 3s 268us/step - loss: 0.6972 - accuracy: 0.4976\n",
      "Epoch 18/200\n",
      "10000/10000 [==============================] - 3s 251us/step - loss: 0.6962 - accuracy: 0.4999\n",
      "Epoch 19/200\n",
      "10000/10000 [==============================] - 3s 270us/step - loss: 0.6962 - accuracy: 0.4987\n",
      "Epoch 20/200\n",
      "10000/10000 [==============================] - 2s 245us/step - loss: 0.6957 - accuracy: 0.5043\n",
      "Epoch 21/200\n",
      "10000/10000 [==============================] - 2s 237us/step - loss: 0.6965 - accuracy: 0.5021\n",
      "Epoch 22/200\n",
      "10000/10000 [==============================] - 3s 268us/step - loss: 0.6956 - accuracy: 0.5033\n",
      "Epoch 23/200\n",
      "10000/10000 [==============================] - 3s 265us/step - loss: 0.6958 - accuracy: 0.5000\n",
      "Epoch 24/200\n",
      "10000/10000 [==============================] - 2s 249us/step - loss: 0.6953 - accuracy: 0.5010\n",
      "Epoch 25/200\n",
      "10000/10000 [==============================] - 3s 257us/step - loss: 0.6963 - accuracy: 0.4983\n",
      "Epoch 26/200\n",
      "10000/10000 [==============================] - 3s 255us/step - loss: 0.6954 - accuracy: 0.5000\n",
      "Epoch 27/200\n",
      "10000/10000 [==============================] - 3s 271us/step - loss: 0.6949 - accuracy: 0.4951\n",
      "Epoch 28/200\n",
      "10000/10000 [==============================] - 3s 253us/step - loss: 0.6950 - accuracy: 0.4992\n",
      "Epoch 29/200\n",
      "10000/10000 [==============================] - 2s 239us/step - loss: 0.6948 - accuracy: 0.5014\n",
      "Epoch 30/200\n",
      "10000/10000 [==============================] - 3s 260us/step - loss: 0.6951 - accuracy: 0.5007\n",
      "Epoch 31/200\n",
      "10000/10000 [==============================] - 2s 236us/step - loss: 0.6952 - accuracy: 0.4952\n",
      "Epoch 32/200\n",
      "10000/10000 [==============================] - 2s 242us/step - loss: 0.6955 - accuracy: 0.4989\n",
      "Epoch 33/200\n",
      "10000/10000 [==============================] - 3s 283us/step - loss: 0.6946 - accuracy: 0.4984\n",
      "Epoch 34/200\n",
      "10000/10000 [==============================] - 3s 253us/step - loss: 0.6950 - accuracy: 0.4955\n",
      "Epoch 35/200\n",
      "10000/10000 [==============================] - 3s 284us/step - loss: 0.6946 - accuracy: 0.4996\n",
      "Epoch 36/200\n",
      "10000/10000 [==============================] - 3s 258us/step - loss: 0.6944 - accuracy: 0.5003\n",
      "Epoch 37/200\n",
      "10000/10000 [==============================] - 3s 255us/step - loss: 0.6954 - accuracy: 0.4883\n",
      "Epoch 38/200\n",
      "10000/10000 [==============================] - 3s 297us/step - loss: 0.6947 - accuracy: 0.5050\n",
      "Epoch 39/200\n",
      "10000/10000 [==============================] - 3s 253us/step - loss: 0.6944 - accuracy: 0.5018\n",
      "Epoch 40/200\n",
      "10000/10000 [==============================] - 3s 277us/step - loss: 0.6947 - accuracy: 0.5025\n",
      "Epoch 41/200\n",
      "10000/10000 [==============================] - 3s 251us/step - loss: 0.6948 - accuracy: 0.4984\n",
      "Epoch 42/200\n",
      "10000/10000 [==============================] - 2s 245us/step - loss: 0.6943 - accuracy: 0.5012\n",
      "Epoch 43/200\n",
      "10000/10000 [==============================] - 3s 252us/step - loss: 0.6938 - accuracy: 0.5089\n",
      "Epoch 44/200\n",
      "10000/10000 [==============================] - 2s 240us/step - loss: 0.6937 - accuracy: 0.5084\n",
      "Epoch 45/200\n",
      "10000/10000 [==============================] - 2s 243us/step - loss: 0.6925 - accuracy: 0.5158\n",
      "Epoch 46/200\n",
      "10000/10000 [==============================] - 3s 264us/step - loss: 0.6888 - accuracy: 0.5283\n",
      "Epoch 47/200\n",
      "10000/10000 [==============================] - 2s 241us/step - loss: 0.6786 - accuracy: 0.5515\n",
      "Epoch 48/200\n",
      "10000/10000 [==============================] - 2s 247us/step - loss: 0.6678 - accuracy: 0.5820\n",
      "Epoch 49/200\n",
      "10000/10000 [==============================] - 3s 252us/step - loss: 0.6638 - accuracy: 0.5951\n",
      "Epoch 50/200\n",
      "10000/10000 [==============================] - 2s 231us/step - loss: 0.6566 - accuracy: 0.5981\n",
      "Epoch 51/200\n",
      "10000/10000 [==============================] - 3s 266us/step - loss: 0.6551 - accuracy: 0.6082\n",
      "Epoch 52/200\n",
      "10000/10000 [==============================] - 3s 281us/step - loss: 0.6487 - accuracy: 0.6193\n",
      "Epoch 53/200\n",
      "10000/10000 [==============================] - 2s 244us/step - loss: 0.6412 - accuracy: 0.6299\n",
      "Epoch 54/200\n",
      "10000/10000 [==============================] - 3s 276us/step - loss: 0.6392 - accuracy: 0.6375\n",
      "Epoch 55/200\n",
      "10000/10000 [==============================] - 2s 242us/step - loss: 0.6338 - accuracy: 0.6424\n",
      "Epoch 56/200\n",
      "10000/10000 [==============================] - 2s 225us/step - loss: 0.6255 - accuracy: 0.6503\n",
      "Epoch 57/200\n",
      "10000/10000 [==============================] - 2s 220us/step - loss: 0.6301 - accuracy: 0.6457\n",
      "Epoch 58/200\n",
      "10000/10000 [==============================] - 2s 220us/step - loss: 0.6258 - accuracy: 0.6486\n",
      "Epoch 59/200\n",
      "10000/10000 [==============================] - 2s 225us/step - loss: 0.6226 - accuracy: 0.6507\n",
      "Epoch 60/200\n",
      "10000/10000 [==============================] - 2s 244us/step - loss: 0.6206 - accuracy: 0.6576\n",
      "Epoch 61/200\n",
      "10000/10000 [==============================] - 3s 281us/step - loss: 0.6199 - accuracy: 0.6561\n",
      "Epoch 62/200\n",
      "10000/10000 [==============================] - 2s 250us/step - loss: 0.6120 - accuracy: 0.6687\n",
      "Epoch 63/200\n",
      "10000/10000 [==============================] - 2s 243us/step - loss: 0.6128 - accuracy: 0.6654\n",
      "Epoch 64/200\n",
      "10000/10000 [==============================] - 3s 296us/step - loss: 0.6085 - accuracy: 0.6654\n",
      "Epoch 65/200\n",
      "10000/10000 [==============================] - 3s 321us/step - loss: 0.6027 - accuracy: 0.6806\n",
      "Epoch 66/200\n",
      "10000/10000 [==============================] - 3s 295us/step - loss: 0.5960 - accuracy: 0.6803\n",
      "Epoch 67/200\n",
      "10000/10000 [==============================] - 3s 260us/step - loss: 0.5897 - accuracy: 0.6875\n",
      "Epoch 68/200\n",
      "10000/10000 [==============================] - 3s 277us/step - loss: 0.5865 - accuracy: 0.6857\n",
      "Epoch 69/200\n",
      "10000/10000 [==============================] - 3s 263us/step - loss: 0.5830 - accuracy: 0.6916\n",
      "Epoch 70/200\n",
      "10000/10000 [==============================] - 3s 261us/step - loss: 0.5775 - accuracy: 0.6981\n",
      "Epoch 71/200\n",
      "10000/10000 [==============================] - 3s 275us/step - loss: 0.5735 - accuracy: 0.6965\n",
      "Epoch 72/200\n",
      "10000/10000 [==============================] - 3s 271us/step - loss: 0.5692 - accuracy: 0.7026\n",
      "Epoch 73/200\n",
      "10000/10000 [==============================] - 3s 271us/step - loss: 0.5651 - accuracy: 0.7074\n",
      "Epoch 74/200\n",
      "10000/10000 [==============================] - 3s 265us/step - loss: 0.5630 - accuracy: 0.7046\n",
      "Epoch 75/200\n",
      "10000/10000 [==============================] - 3s 251us/step - loss: 0.5562 - accuracy: 0.7092\n",
      "Epoch 76/200\n",
      "10000/10000 [==============================] - 3s 256us/step - loss: 0.5568 - accuracy: 0.7154\n"
     ]
    },
    {
     "name": "stdout",
     "output_type": "stream",
     "text": [
      "Epoch 77/200\n",
      "10000/10000 [==============================] - 3s 270us/step - loss: 0.5522 - accuracy: 0.7139\n",
      "Epoch 78/200\n",
      "10000/10000 [==============================] - 2s 236us/step - loss: 0.5553 - accuracy: 0.7119\n",
      "Epoch 79/200\n",
      "10000/10000 [==============================] - 2s 245us/step - loss: 0.5502 - accuracy: 0.7137\n",
      "Epoch 80/200\n",
      "10000/10000 [==============================] - 3s 285us/step - loss: 0.5449 - accuracy: 0.7221\n",
      "Epoch 81/200\n",
      "10000/10000 [==============================] - 2s 244us/step - loss: 0.5433 - accuracy: 0.7204\n",
      "Epoch 82/200\n",
      "10000/10000 [==============================] - 3s 252us/step - loss: 0.5388 - accuracy: 0.7223\n",
      "Epoch 83/200\n",
      "10000/10000 [==============================] - 3s 278us/step - loss: 0.5351 - accuracy: 0.7260\n",
      "Epoch 84/200\n",
      "10000/10000 [==============================] - 3s 259us/step - loss: 0.5360 - accuracy: 0.7269\n",
      "Epoch 85/200\n",
      "10000/10000 [==============================] - 2s 221us/step - loss: 0.5341 - accuracy: 0.7238\n",
      "Epoch 86/200\n",
      "10000/10000 [==============================] - 2s 227us/step - loss: 0.5277 - accuracy: 0.7302\n",
      "Epoch 87/200\n",
      "10000/10000 [==============================] - 3s 331us/step - loss: 0.5192 - accuracy: 0.7367\n",
      "Epoch 88/200\n",
      "10000/10000 [==============================] - 2s 242us/step - loss: 0.5267 - accuracy: 0.7311\n",
      "Epoch 89/200\n",
      "10000/10000 [==============================] - 3s 264us/step - loss: 0.5161 - accuracy: 0.7368\n",
      "Epoch 90/200\n",
      "10000/10000 [==============================] - 2s 243us/step - loss: 0.5112 - accuracy: 0.7396\n",
      "Epoch 91/200\n",
      "10000/10000 [==============================] - 2s 243us/step - loss: 0.5045 - accuracy: 0.7469\n",
      "Epoch 92/200\n",
      "10000/10000 [==============================] - 2s 233us/step - loss: 0.5046 - accuracy: 0.7468\n",
      "Epoch 93/200\n",
      "10000/10000 [==============================] - 2s 242us/step - loss: 0.5016 - accuracy: 0.7483\n",
      "Epoch 94/200\n",
      "10000/10000 [==============================] - 3s 256us/step - loss: 0.4994 - accuracy: 0.7454\n",
      "Epoch 95/200\n",
      "10000/10000 [==============================] - 3s 266us/step - loss: 0.4982 - accuracy: 0.7483\n",
      "Epoch 96/200\n",
      "10000/10000 [==============================] - 2s 232us/step - loss: 0.5013 - accuracy: 0.7464\n",
      "Epoch 97/200\n",
      "10000/10000 [==============================] - 2s 250us/step - loss: 0.4914 - accuracy: 0.7575\n",
      "Epoch 98/200\n",
      "10000/10000 [==============================] - 2s 240us/step - loss: 0.4896 - accuracy: 0.7527\n",
      "Epoch 99/200\n",
      "10000/10000 [==============================] - 3s 257us/step - loss: 0.4869 - accuracy: 0.7584\n",
      "Epoch 100/200\n",
      "10000/10000 [==============================] - 3s 263us/step - loss: 0.4792 - accuracy: 0.7645\n",
      "Epoch 101/200\n",
      "10000/10000 [==============================] - 2s 249us/step - loss: 0.4794 - accuracy: 0.7641\n",
      "Epoch 102/200\n",
      "10000/10000 [==============================] - 3s 269us/step - loss: 0.4811 - accuracy: 0.7578\n",
      "Epoch 103/200\n",
      "10000/10000 [==============================] - 3s 258us/step - loss: 0.4742 - accuracy: 0.7641\n",
      "Epoch 104/200\n",
      "10000/10000 [==============================] - 2s 239us/step - loss: 0.4767 - accuracy: 0.7655\n",
      "Epoch 105/200\n",
      "10000/10000 [==============================] - 2s 249us/step - loss: 0.4654 - accuracy: 0.7805\n",
      "Epoch 106/200\n",
      "10000/10000 [==============================] - 2s 245us/step - loss: 0.4640 - accuracy: 0.7700\n",
      "Epoch 107/200\n",
      "10000/10000 [==============================] - 2s 236us/step - loss: 0.4665 - accuracy: 0.7727\n",
      "Epoch 108/200\n",
      "10000/10000 [==============================] - 3s 267us/step - loss: 0.4629 - accuracy: 0.7736\n",
      "Epoch 109/200\n",
      "10000/10000 [==============================] - 3s 267us/step - loss: 0.4633 - accuracy: 0.7753\n",
      "Epoch 110/200\n",
      "10000/10000 [==============================] - 2s 223us/step - loss: 0.4666 - accuracy: 0.7779\n",
      "Epoch 111/200\n",
      "10000/10000 [==============================] - 2s 229us/step - loss: 0.4602 - accuracy: 0.7793\n",
      "Epoch 112/200\n",
      "10000/10000 [==============================] - 2s 238us/step - loss: 0.4556 - accuracy: 0.7787\n",
      "Epoch 113/200\n",
      "10000/10000 [==============================] - 2s 237us/step - loss: 0.4538 - accuracy: 0.7817\n",
      "Epoch 114/200\n",
      "10000/10000 [==============================] - 3s 258us/step - loss: 0.4445 - accuracy: 0.7848\n",
      "Epoch 115/200\n",
      "10000/10000 [==============================] - 2s 237us/step - loss: 0.4492 - accuracy: 0.7847\n",
      "Epoch 116/200\n",
      "10000/10000 [==============================] - 2s 233us/step - loss: 0.4398 - accuracy: 0.7883\n",
      "Epoch 117/200\n",
      "10000/10000 [==============================] - 3s 279us/step - loss: 0.4424 - accuracy: 0.7925\n",
      "Epoch 118/200\n",
      "10000/10000 [==============================] - 2s 235us/step - loss: 0.4406 - accuracy: 0.7886\n",
      "Epoch 119/200\n",
      "10000/10000 [==============================] - 2s 238us/step - loss: 0.4368 - accuracy: 0.7944\n",
      "Epoch 120/200\n",
      "10000/10000 [==============================] - 2s 247us/step - loss: 0.4268 - accuracy: 0.7998\n",
      "Epoch 121/200\n",
      "10000/10000 [==============================] - 2s 229us/step - loss: 0.4332 - accuracy: 0.7940\n",
      "Epoch 122/200\n",
      "10000/10000 [==============================] - 2s 248us/step - loss: 0.4258 - accuracy: 0.8013\n",
      "Epoch 123/200\n",
      "10000/10000 [==============================] - 2s 245us/step - loss: 0.4288 - accuracy: 0.7973\n",
      "Epoch 124/200\n",
      "10000/10000 [==============================] - 3s 268us/step - loss: 0.4205 - accuracy: 0.8032\n",
      "Epoch 125/200\n",
      "10000/10000 [==============================] - 3s 265us/step - loss: 0.4292 - accuracy: 0.7988\n",
      "Epoch 126/200\n",
      "10000/10000 [==============================] - 3s 263us/step - loss: 0.4277 - accuracy: 0.7996\n",
      "Epoch 127/200\n",
      "10000/10000 [==============================] - 3s 286us/step - loss: 0.4223 - accuracy: 0.8059\n",
      "Epoch 128/200\n",
      "10000/10000 [==============================] - 3s 324us/step - loss: 0.4263 - accuracy: 0.8013\n",
      "Epoch 129/200\n",
      "10000/10000 [==============================] - 3s 263us/step - loss: 0.4198 - accuracy: 0.8053\n",
      "Epoch 130/200\n",
      "10000/10000 [==============================] - 3s 292us/step - loss: 0.4191 - accuracy: 0.8042\n",
      "Epoch 131/200\n",
      "10000/10000 [==============================] - 3s 288us/step - loss: 0.4211 - accuracy: 0.8018\n",
      "Epoch 132/200\n",
      "10000/10000 [==============================] - 2s 241us/step - loss: 0.4206 - accuracy: 0.8046\n",
      "Epoch 133/200\n",
      "10000/10000 [==============================] - 3s 270us/step - loss: 0.4076 - accuracy: 0.8140\n",
      "Epoch 134/200\n",
      "10000/10000 [==============================] - 2s 246us/step - loss: 0.4225 - accuracy: 0.8046\n",
      "Epoch 135/200\n",
      "10000/10000 [==============================] - 2s 234us/step - loss: 0.4140 - accuracy: 0.8107\n",
      "Epoch 136/200\n",
      "10000/10000 [==============================] - 3s 280us/step - loss: 0.4094 - accuracy: 0.8133\n",
      "Epoch 137/200\n",
      "10000/10000 [==============================] - 3s 270us/step - loss: 0.4056 - accuracy: 0.8152\n",
      "Epoch 138/200\n",
      "10000/10000 [==============================] - 2s 247us/step - loss: 0.3992 - accuracy: 0.8186\n",
      "Epoch 139/200\n",
      "10000/10000 [==============================] - 2s 229us/step - loss: 0.4085 - accuracy: 0.8138\n",
      "Epoch 140/200\n",
      "10000/10000 [==============================] - 2s 248us/step - loss: 0.3976 - accuracy: 0.8172\n",
      "Epoch 141/200\n",
      "10000/10000 [==============================] - 3s 264us/step - loss: 0.3968 - accuracy: 0.8174\n",
      "Epoch 142/200\n",
      "10000/10000 [==============================] - 2s 236us/step - loss: 0.3914 - accuracy: 0.8206\n",
      "Epoch 143/200\n",
      "10000/10000 [==============================] - 2s 248us/step - loss: 0.3991 - accuracy: 0.8134\n",
      "Epoch 144/200\n",
      "10000/10000 [==============================] - 3s 254us/step - loss: 0.3912 - accuracy: 0.8203\n",
      "Epoch 145/200\n",
      "10000/10000 [==============================] - 2s 244us/step - loss: 0.3953 - accuracy: 0.8185\n",
      "Epoch 146/200\n",
      "10000/10000 [==============================] - 2s 238us/step - loss: 0.3953 - accuracy: 0.8179\n",
      "Epoch 147/200\n",
      "10000/10000 [==============================] - 3s 254us/step - loss: 0.3926 - accuracy: 0.8222\n",
      "Epoch 148/200\n",
      "10000/10000 [==============================] - 2s 240us/step - loss: 0.3905 - accuracy: 0.8287\n",
      "Epoch 149/200\n",
      "10000/10000 [==============================] - 3s 262us/step - loss: 0.3875 - accuracy: 0.8241\n",
      "Epoch 150/200\n",
      "10000/10000 [==============================] - 3s 265us/step - loss: 0.3865 - accuracy: 0.8241\n",
      "Epoch 151/200\n",
      "10000/10000 [==============================] - 2s 208us/step - loss: 0.3815 - accuracy: 0.8243\n",
      "Epoch 152/200\n"
     ]
    },
    {
     "name": "stdout",
     "output_type": "stream",
     "text": [
      "10000/10000 [==============================] - 3s 309us/step - loss: 0.3892 - accuracy: 0.8253\n",
      "Epoch 153/200\n",
      "10000/10000 [==============================] - 2s 249us/step - loss: 0.3829 - accuracy: 0.8262\n",
      "Epoch 154/200\n",
      "10000/10000 [==============================] - 3s 262us/step - loss: 0.3763 - accuracy: 0.8313\n",
      "Epoch 155/200\n",
      "10000/10000 [==============================] - 3s 260us/step - loss: 0.3805 - accuracy: 0.8270\n",
      "Epoch 156/200\n",
      "10000/10000 [==============================] - 2s 233us/step - loss: 0.3773 - accuracy: 0.8321\n",
      "Epoch 157/200\n",
      "10000/10000 [==============================] - 3s 265us/step - loss: 0.3789 - accuracy: 0.8284\n",
      "Epoch 158/200\n",
      "10000/10000 [==============================] - 3s 261us/step - loss: 0.3817 - accuracy: 0.8275\n",
      "Epoch 159/200\n",
      "10000/10000 [==============================] - 3s 265us/step - loss: 0.3760 - accuracy: 0.8314\n",
      "Epoch 160/200\n",
      "10000/10000 [==============================] - 3s 264us/step - loss: 0.3697 - accuracy: 0.8313\n",
      "Epoch 161/200\n",
      "10000/10000 [==============================] - 2s 241us/step - loss: 0.3714 - accuracy: 0.8337\n",
      "Epoch 162/200\n",
      "10000/10000 [==============================] - 3s 258us/step - loss: 0.3747 - accuracy: 0.8287\n",
      "Epoch 163/200\n",
      "10000/10000 [==============================] - 3s 255us/step - loss: 0.3648 - accuracy: 0.8378\n",
      "Epoch 164/200\n",
      "10000/10000 [==============================] - 2s 245us/step - loss: 0.3681 - accuracy: 0.8355\n",
      "Epoch 165/200\n",
      "10000/10000 [==============================] - 2s 197us/step - loss: 0.3720 - accuracy: 0.8304\n",
      "Epoch 166/200\n",
      "10000/10000 [==============================] - 2s 214us/step - loss: 0.3655 - accuracy: 0.8325\n",
      "Epoch 167/200\n",
      "10000/10000 [==============================] - 2s 217us/step - loss: 0.3693 - accuracy: 0.8353\n",
      "Epoch 168/200\n",
      "10000/10000 [==============================] - 2s 230us/step - loss: 0.3607 - accuracy: 0.8365\n",
      "Epoch 169/200\n",
      "10000/10000 [==============================] - 2s 221us/step - loss: 0.3667 - accuracy: 0.8352\n",
      "Epoch 170/200\n",
      "10000/10000 [==============================] - 2s 213us/step - loss: 0.3552 - accuracy: 0.8424\n",
      "Epoch 171/200\n",
      "10000/10000 [==============================] - 2s 230us/step - loss: 0.3576 - accuracy: 0.8416\n",
      "Epoch 172/200\n",
      "10000/10000 [==============================] - 3s 287us/step - loss: 0.3639 - accuracy: 0.8393\n",
      "Epoch 173/200\n",
      "10000/10000 [==============================] - 2s 226us/step - loss: 0.3574 - accuracy: 0.8409\n",
      "Epoch 174/200\n",
      "10000/10000 [==============================] - 2s 240us/step - loss: 0.3579 - accuracy: 0.8417\n",
      "Epoch 175/200\n",
      "10000/10000 [==============================] - 3s 263us/step - loss: 0.3546 - accuracy: 0.8427\n",
      "Epoch 176/200\n",
      "10000/10000 [==============================] - 2s 241us/step - loss: 0.3549 - accuracy: 0.8415\n",
      "Epoch 177/200\n",
      "10000/10000 [==============================] - 2s 230us/step - loss: 0.3484 - accuracy: 0.8479\n",
      "Epoch 178/200\n",
      "10000/10000 [==============================] - 3s 266us/step - loss: 0.3611 - accuracy: 0.8424\n",
      "Epoch 179/200\n",
      "10000/10000 [==============================] - 2s 234us/step - loss: 0.3509 - accuracy: 0.8465\n",
      "Epoch 180/200\n",
      "10000/10000 [==============================] - 2s 247us/step - loss: 0.3522 - accuracy: 0.8461\n",
      "Epoch 181/200\n",
      "10000/10000 [==============================] - 3s 258us/step - loss: 0.3546 - accuracy: 0.8448\n",
      "Epoch 182/200\n",
      "10000/10000 [==============================] - 2s 249us/step - loss: 0.3411 - accuracy: 0.8516\n",
      "Epoch 183/200\n",
      "10000/10000 [==============================] - 3s 252us/step - loss: 0.3429 - accuracy: 0.8454\n",
      "Epoch 184/200\n",
      "10000/10000 [==============================] - 3s 285us/step - loss: 0.3403 - accuracy: 0.8506\n",
      "Epoch 185/200\n",
      "10000/10000 [==============================] - 2s 237us/step - loss: 0.3406 - accuracy: 0.8476\n",
      "Epoch 186/200\n",
      "10000/10000 [==============================] - 3s 277us/step - loss: 0.3449 - accuracy: 0.8442\n",
      "Epoch 187/200\n",
      "10000/10000 [==============================] - 2s 235us/step - loss: 0.3390 - accuracy: 0.8494\n",
      "Epoch 188/200\n",
      "10000/10000 [==============================] - 2s 241us/step - loss: 0.3397 - accuracy: 0.8492\n",
      "Epoch 189/200\n",
      "10000/10000 [==============================] - 2s 237us/step - loss: 0.3422 - accuracy: 0.8514\n",
      "Epoch 190/200\n",
      "10000/10000 [==============================] - 2s 247us/step - loss: 0.3315 - accuracy: 0.8543\n",
      "Epoch 191/200\n",
      "10000/10000 [==============================] - 2s 239us/step - loss: 0.3359 - accuracy: 0.8532\n",
      "Epoch 192/200\n",
      "10000/10000 [==============================] - 3s 255us/step - loss: 0.3305 - accuracy: 0.8521\n",
      "Epoch 193/200\n",
      "10000/10000 [==============================] - 3s 252us/step - loss: 0.3347 - accuracy: 0.8536\n",
      "Epoch 194/200\n",
      "10000/10000 [==============================] - 3s 257us/step - loss: 0.3355 - accuracy: 0.8533\n",
      "Epoch 195/200\n",
      "10000/10000 [==============================] - 3s 294us/step - loss: 0.3308 - accuracy: 0.8542\n",
      "Epoch 196/200\n",
      "10000/10000 [==============================] - 5s 483us/step - loss: 0.3289 - accuracy: 0.8544\n",
      "Epoch 197/200\n",
      "10000/10000 [==============================] - 4s 400us/step - loss: 0.3345 - accuracy: 0.8519\n",
      "Epoch 198/200\n",
      "10000/10000 [==============================] - 3s 281us/step - loss: 0.3300 - accuracy: 0.8519\n",
      "Epoch 199/200\n",
      "10000/10000 [==============================] - 3s 285us/step - loss: 0.3245 - accuracy: 0.8574\n",
      "Epoch 200/200\n",
      "10000/10000 [==============================] - 3s 271us/step - loss: 0.3178 - accuracy: 0.8597\n"
     ]
    }
   ],
   "source": [
    "history = model.fit([train_story_seq, train_question_seq], train_answer_oh, batch_size=128, epochs=200)"
   ]
  },
  {
   "cell_type": "code",
   "execution_count": 112,
   "metadata": {},
   "outputs": [],
   "source": [
    "# filename = 'chatbot_120_epochs.h5'\n",
    "filename = 'chatbot_200_epochs.h5'\n",
    "model.save(filename)"
   ]
  },
  {
   "cell_type": "code",
   "execution_count": 113,
   "metadata": {},
   "outputs": [],
   "source": [
    "from keras.models import load_model"
   ]
  },
  {
   "cell_type": "code",
   "execution_count": 114,
   "metadata": {},
   "outputs": [
    {
     "name": "stderr",
     "output_type": "stream",
     "text": [
      "/home/kaml/anaconda3/lib/python3.7/site-packages/tensorflow_core/python/framework/indexed_slices.py:424: UserWarning: Converting sparse IndexedSlices to a dense Tensor of unknown shape. This may consume a large amount of memory.\n",
      "  \"Converting sparse IndexedSlices to a dense Tensor of unknown shape. \"\n"
     ]
    }
   ],
   "source": [
    "model = load_model('chatbot_200_epochs.h5')"
   ]
  },
  {
   "cell_type": "code",
   "execution_count": 115,
   "metadata": {},
   "outputs": [
    {
     "name": "stdout",
     "output_type": "stream",
     "text": [
      "dict_keys(['loss', 'accuracy'])\n"
     ]
    },
    {
     "data": {
      "image/png": "[encoded data removed]",
      "text/plain": [
       "<Figure size 432x288 with 1 Axes>"
      ]
     },
     "metadata": {
      "needs_background": "light"
     },
     "output_type": "display_data"
    }
   ],
   "source": [
    "import matplotlib.pyplot as plt\n",
    "%matplotlib inline\n",
    "print(history.history.keys())\n",
    "plt.plot(history.history['accuracy'])\n",
    "plt.plot(history.history['loss'])\n",
    "plt.title('model accyracy')\n",
    "plt.xlabel('epoch')\n",
    "plt.ylabel('accuracy')\n",
    "plt.legend(['accuracy', 'loss'])\n",
    "plt.show()"
   ]
  },
  {
   "cell_type": "code",
   "execution_count": 116,
   "metadata": {},
   "outputs": [],
   "source": [
    "predictions = model.predict([test_story_seq, test_question_seq])"
   ]
  },
  {
   "cell_type": "code",
   "execution_count": 117,
   "metadata": {},
   "outputs": [
    {
     "data": {
      "text/plain": [
       "(1000, 38)"
      ]
     },
     "execution_count": 117,
     "metadata": {},
     "output_type": "execute_result"
    }
   ],
   "source": [
    "predictions.shape"
   ]
  },
  {
   "cell_type": "code",
   "execution_count": 118,
   "metadata": {},
   "outputs": [],
   "source": [
    "predicted_answers = []\n",
    "for i in range(len(test_data)):\n",
    "    val_max = np.argmax(predictions[i])\n",
    "    for key, val in tokenizer.word_index.items():\n",
    "        if val == val_max:\n",
    "            predicted_answers.append(key)"
   ]
  },
  {
   "cell_type": "code",
   "execution_count": 119,
   "metadata": {},
   "outputs": [],
   "source": [
    "for i in range(len(test_data)):   \n",
    "    if predicted_answers[i] == 'yes':\n",
    "        predicted_answers[i] = 1.0\n",
    "    else:\n",
    "        predicted_answers[i] = 0.0"
   ]
  },
  {
   "cell_type": "code",
   "execution_count": 120,
   "metadata": {},
   "outputs": [],
   "source": [
    "for i in range(len(test_data)):   \n",
    "    if test_answer_text[i] == 'yes':\n",
    "        test_answer_text[i] = 1.0\n",
    "    else:\n",
    "        test_answer_text[i] = 0.0"
   ]
  },
  {
   "cell_type": "code",
   "execution_count": 121,
   "metadata": {},
   "outputs": [
    {
     "name": "stdout",
     "output_type": "stream",
     "text": [
      "0.798\n"
     ]
    }
   ],
   "source": [
    "correct_ans = 0\n",
    "for i in range(len(test_data)):\n",
    "    if predicted_answers[i] == test_answer_text[i]:\n",
    "        correct_ans += 1\n",
    "        \n",
    "accuracy = correct_ans / len(test_data)\n",
    "print(accuracy)"
   ]
  },
  {
   "cell_type": "code",
   "execution_count": 122,
   "metadata": {},
   "outputs": [],
   "source": [
    "my_story = [[]]   #ATTENTION!!! Must be a list of lists\n",
    "my_story[0] = (\"John is in the kitchen.\").split()\n",
    "my_story_seq = tokenizer.texts_to_sequences(my_story)\n",
    "my_story_seq = pad_sequences(my_story_seq, maxlen=max_story_len)"
   ]
  },
  {
   "cell_type": "code",
   "execution_count": 123,
   "metadata": {},
   "outputs": [],
   "source": [
    "my_question = [[]]\n",
    "my_question[0] = ('Is John in the bathroom?').split()\n",
    "my_question_seq = tokenizer.texts_to_sequences(my_question)\n",
    "my_question_seq = pad_sequences(my_question_seq, maxlen=max_question_len)"
   ]
  },
  {
   "cell_type": "code",
   "execution_count": 124,
   "metadata": {},
   "outputs": [],
   "source": [
    "my_prediction = model.predict([my_story_seq, my_question_seq])"
   ]
  },
  {
   "cell_type": "code",
   "execution_count": 125,
   "metadata": {},
   "outputs": [
    {
     "data": {
      "text/plain": [
       "(1, 38)"
      ]
     },
     "execution_count": 125,
     "metadata": {},
     "output_type": "execute_result"
    }
   ],
   "source": [
    "my_prediction.shape"
   ]
  },
  {
   "cell_type": "code",
   "execution_count": 126,
   "metadata": {},
   "outputs": [
    {
     "data": {
      "text/plain": [
       "23"
      ]
     },
     "execution_count": 126,
     "metadata": {},
     "output_type": "execute_result"
    }
   ],
   "source": [
    "my_val_max = np.argmax(my_prediction)\n",
    "my_val_max"
   ]
  },
  {
   "cell_type": "code",
   "execution_count": 127,
   "metadata": {},
   "outputs": [
    {
     "name": "stdout",
     "output_type": "stream",
     "text": [
      "no\n"
     ]
    }
   ],
   "source": [
    "for key, val in tokenizer.word_index.items():\n",
    "    if val == my_val_max:\n",
    "        k = key\n",
    "print(k)"
   ]
  }
 ],
 "metadata": {
  "kernelspec": {
   "display_name": "Python 3",
   "language": "python",
   "name": "python3"
  },
  "language_info": {
   "codemirror_mode": {
    "name": "ipython",
    "version": 3
   },
   "file_extension": ".py",
   "mimetype": "text/x-python",
   "name": "python",
   "nbconvert_exporter": "python",
   "pygments_lexer": "ipython3",
   "version": "3.7.4"
  }
 },
 "nbformat": 4,
 "nbformat_minor": 2
}
