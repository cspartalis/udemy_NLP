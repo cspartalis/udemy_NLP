{
 "cells": [
  {
   "cell_type": "code",
   "execution_count": 1,
   "metadata": {},
   "outputs": [],
   "source": [
    "import pickle   #specialized format for data\n",
    "import numpy as np"
   ]
  },
  {
   "cell_type": "code",
   "execution_count": 2,
   "metadata": {},
   "outputs": [],
   "source": [
    "with open('train_qa.txt', 'rb') as f:   #read as binary\n",
    "    train_data = pickle.load(f)"
   ]
  },
  {
   "cell_type": "code",
   "execution_count": 3,
   "metadata": {},
   "outputs": [],
   "source": [
    "with open('test_qa.txt', 'rb') as f:   #read as binary\n",
    "    test_data = pickle.load(f)"
   ]
  },
  {
   "cell_type": "markdown",
   "metadata": {},
   "source": [
    "10000 points for trainig data and <br>\n",
    "1000 points for test data <br>\n",
    "each training example is a tuple (story, question, answer)"
   ]
  },
  {
   "cell_type": "code",
   "execution_count": 4,
   "metadata": {},
   "outputs": [
    {
     "name": "stdout",
     "output_type": "stream",
     "text": [
      "38\n"
     ]
    }
   ],
   "source": [
    "'''\n",
    "Creating the vocabulary\n",
    "'''\n",
    "all_data = test_data + train_data\n",
    "vocab = set()   #set is an unordered list of unique elements\n",
    "\n",
    "for story, question, answer in all_data:\n",
    "    vocab = vocab.union(set(story))\n",
    "    vocab = vocab.union(set(question))\n",
    "    vocab.add('no')\n",
    "    vocab.add('yes')\n",
    "    \n",
    "vocab_len = len(vocab) + 1   #we will use it later\n",
    "print(vocab_len)"
   ]
  },
  {
   "cell_type": "code",
   "execution_count": 5,
   "metadata": {},
   "outputs": [
    {
     "name": "stdout",
     "output_type": "stream",
     "text": [
      "156\n"
     ]
    }
   ],
   "source": [
    "'''\n",
    "We want to the longest story for later use\n",
    "'''\n",
    "all_story_lens = [len(data[0]) for data in all_data]\n",
    "max_story_len = max(all_story_lens)\n",
    "print(max_story_len)"
   ]
  },
  {
   "cell_type": "code",
   "execution_count": 6,
   "metadata": {},
   "outputs": [
    {
     "name": "stdout",
     "output_type": "stream",
     "text": [
      "6\n"
     ]
    }
   ],
   "source": [
    "'''\n",
    "We want to the longest question for later use\n",
    "'''\n",
    "all_question_lens = [len(data[1]) for data in all_data]\n",
    "max_question_len = max(all_question_lens)\n",
    "print(max_question_len)"
   ]
  },
  {
   "cell_type": "code",
   "execution_count": 7,
   "metadata": {},
   "outputs": [
    {
     "name": "stderr",
     "output_type": "stream",
     "text": [
      "Using TensorFlow backend.\n"
     ]
    }
   ],
   "source": [
    "from keras.preprocessing.sequence import pad_sequences\n",
    "from keras.preprocessing.text import Tokenizer"
   ]
  },
  {
   "cell_type": "code",
   "execution_count": 8,
   "metadata": {},
   "outputs": [
    {
     "data": {
      "text/plain": [
       "{'hallway': 1,\n",
       " 'bathroom': 2,\n",
       " 'there': 3,\n",
       " 'is': 4,\n",
       " 'back': 5,\n",
       " 'journeyed': 6,\n",
       " 'got': 7,\n",
       " 'to': 8,\n",
       " 'put': 9,\n",
       " 'sandra': 10,\n",
       " 'no': 11,\n",
       " 'office': 12,\n",
       " 'picked': 13,\n",
       " 'moved': 14,\n",
       " 'went': 15,\n",
       " 'discarded': 16,\n",
       " 'grabbed': 17,\n",
       " 'up': 18,\n",
       " 'football': 19,\n",
       " 'kitchen': 20,\n",
       " 'john': 21,\n",
       " 'milk': 22,\n",
       " 'mary': 23,\n",
       " 'apple': 24,\n",
       " 'left': 25,\n",
       " 'the': 26,\n",
       " 'bedroom': 27,\n",
       " 'garden': 28,\n",
       " 'in': 29,\n",
       " 'yes': 30,\n",
       " 'dropped': 31,\n",
       " '?': 32,\n",
       " 'took': 33,\n",
       " 'daniel': 34,\n",
       " '.': 35,\n",
       " 'travelled': 36,\n",
       " 'down': 37}"
      ]
     },
     "execution_count": 8,
     "metadata": {},
     "output_type": "execute_result"
    }
   ],
   "source": [
    "'''\n",
    "Create a dictionary that maps every word of the vocabularu to an index\n",
    "'''\n",
    "tokenizer = Tokenizer(filters=[])\n",
    "tokenizer.fit_on_texts(vocab)\n",
    "\n",
    "tokenizer.word_index"
   ]
  },
  {
   "cell_type": "code",
   "execution_count": 9,
   "metadata": {},
   "outputs": [],
   "source": [
    "'''\n",
    "Make lists of stories, qustions and answers\n",
    "'''\n",
    "train_story_text = []\n",
    "train_question_text = []\n",
    "train_answer_text = []\n",
    "\n",
    "for story, question, answer in train_data:\n",
    "    train_story_text.append(story)\n",
    "    train_question_text.append(question)\n",
    "    train_answer_text.append(answer)"
   ]
  },
  {
   "cell_type": "code",
   "execution_count": 10,
   "metadata": {},
   "outputs": [],
   "source": [
    "'''\n",
    "Same for test_data\n",
    "'''\n",
    "test_story_text = []\n",
    "test_question_text = []\n",
    "test_answer_text = []\n",
    "\n",
    "for story, question, answer in test_data:\n",
    "    test_story_text.append(story)\n",
    "    test_question_text.append(question)\n",
    "    test_answer_text.append(answer)"
   ]
  },
  {
   "cell_type": "code",
   "execution_count": 11,
   "metadata": {},
   "outputs": [],
   "source": [
    "'''\n",
    "-----CREATE PADDED SEQUENCIES-----\n",
    "VECTORIZING: Conververting words -> indexes,\n",
    "             sentences -> sequencies of integers\n",
    "PADDING: Padding vectors with zeros\n",
    "'''\n",
    "train_story_seq = tokenizer.texts_to_sequences(train_story_text)\n",
    "train_story_seq = pad_sequences(train_story_seq, maxlen=max_story_len)\n",
    "\n",
    "train_question_seq = tokenizer.texts_to_sequences(train_question_text)\n",
    "train_question_seq = pad_sequences(train_question_seq, maxlen=max_question_len)"
   ]
  },
  {
   "cell_type": "code",
   "execution_count": 12,
   "metadata": {},
   "outputs": [],
   "source": [
    "'''\n",
    "Same for test data\n",
    "'''\n",
    "test_story_seq = tokenizer.texts_to_sequences(test_story_text)\n",
    "test_story_seq = pad_sequences(test_story_seq, maxlen=max_story_len)\n",
    "\n",
    "test_question_seq = tokenizer.texts_to_sequences(test_question_text)\n",
    "test_question_seq = pad_sequences(test_question_seq, maxlen=max_question_len)"
   ]
  },
  {
   "cell_type": "code",
   "execution_count": 13,
   "metadata": {},
   "outputs": [
    {
     "name": "stdout",
     "output_type": "stream",
     "text": [
      "Index of \"yes\" is: 30\n",
      "Index of \"no\" is:  11\n"
     ]
    }
   ],
   "source": [
    "print(f'Index of \"yes\" is: {tokenizer.word_index.get(\"yes\")}')\n",
    "print(f'Index of \"no\" is:  {tokenizer.word_index.get(\"no\")}')"
   ]
  },
  {
   "cell_type": "code",
   "execution_count": 14,
   "metadata": {},
   "outputs": [],
   "source": [
    "'''\n",
    "Converting train and test answers to one hot representation\n",
    "'''\n",
    "train_answer_oh = np.zeros(shape=(len(train_data), vocab_len))\n",
    "test_answer_oh = np.zeros(shape=(len(train_data), vocab_len))\n",
    "\n",
    "m = len(train_data)   #m is the number of training examples\n",
    "\n",
    "for i in range(m):   #i is the trainining example\n",
    "    train_answer_oh[i][tokenizer.word_index.get(train_answer_text[i])] = 1\n",
    "\n",
    "y = len(test_data)\n",
    "for i in range(y):\n",
    "    test_answer_oh[i][tokenizer.word_index.get(test_answer_text[i])] = 1\n"
   ]
  },
  {
   "cell_type": "code",
   "execution_count": 15,
   "metadata": {},
   "outputs": [],
   "source": [
    "from keras.models import Sequential, Model\n",
    "from keras.layers.embeddings import Embedding\n",
    "from keras.layers import Input,Activation,Dense,Permute,Dropout,add,dot,concatenate,LSTM"
   ]
  },
  {
   "cell_type": "code",
   "execution_count": 16,
   "metadata": {},
   "outputs": [],
   "source": [
    "# PLACEHOLDER shape=(max_story_len, batch_size)\n",
    "input_sequence = Input((max_story_len,))\n",
    "question = Input((max_question_len,))"
   ]
  },
  {
   "cell_type": "code",
   "execution_count": 17,
   "metadata": {},
   "outputs": [],
   "source": [
    "# INPUT ENCODER M\n",
    "input_encoder_m = Sequential()\n",
    "input_encoder_m.add(Embedding(input_dim=vocab_len, output_dim=64))\n",
    "input_encoder_m.add(Dropout(0.33))\n",
    "\n",
    "# OUTPUT\n",
    "# (m, max_story_len, embedding_dim)"
   ]
  },
  {
   "cell_type": "code",
   "execution_count": 18,
   "metadata": {},
   "outputs": [],
   "source": [
    "# INPUT ENCODER C\n",
    "input_encoder_c = Sequential()\n",
    "input_encoder_c.add(Embedding(input_dim=vocab_len, output_dim=max_question_len))\n",
    "input_encoder_c.add(Dropout(0.33))\n",
    "\n",
    "# OUTPUT\n",
    "# (m, max_story_len, max_question_len)"
   ]
  },
  {
   "cell_type": "code",
   "execution_count": 19,
   "metadata": {},
   "outputs": [],
   "source": [
    "# QUESTION ENCODER\n",
    "question_encoder = Sequential()\n",
    "question_encoder.add(Embedding(input_dim=vocab_len, output_dim=64, input_length=max_question_len))\n",
    "question_encoder.add(Dropout(0.33))\n",
    "\n",
    "# OUTPUT\n",
    "# (m, max_question_len, embedding_dim)"
   ]
  },
  {
   "cell_type": "code",
   "execution_count": 20,
   "metadata": {},
   "outputs": [],
   "source": [
    "# ENCODED --> ENCODER(INPUT)\n",
    "input_encoded_m = input_encoder_m(input_sequence)\n",
    "input_encoded_c = input_encoder_c(input_sequence)\n",
    "question_encoded= question_encoder(question)"
   ]
  },
  {
   "cell_type": "code",
   "execution_count": 21,
   "metadata": {},
   "outputs": [],
   "source": [
    "match = dot([input_encoded_m, question_encoded], axes=(2,2))\n",
    "match = Activation('softmax')(match)"
   ]
  },
  {
   "cell_type": "code",
   "execution_count": 22,
   "metadata": {},
   "outputs": [
    {
     "name": "stdout",
     "output_type": "stream",
     "text": [
      "(None, 156, 6)\n",
      "(None, 6, 156)\n"
     ]
    }
   ],
   "source": [
    "response = add([match, input_encoded_c])\n",
    "print(response.shape)\n",
    "response = Permute((2,1))(response)   #changes the axes\n",
    "print(response.shape)"
   ]
  },
  {
   "cell_type": "code",
   "execution_count": 23,
   "metadata": {},
   "outputs": [
    {
     "data": {
      "text/plain": [
       "TensorShape([None, 6, 64])"
      ]
     },
     "execution_count": 23,
     "metadata": {},
     "output_type": "execute_result"
    }
   ],
   "source": [
    "question_encoded.shape"
   ]
  },
  {
   "cell_type": "code",
   "execution_count": 24,
   "metadata": {},
   "outputs": [
    {
     "data": {
      "text/plain": [
       "TensorShape([None, 6, 220])"
      ]
     },
     "execution_count": 24,
     "metadata": {},
     "output_type": "execute_result"
    }
   ],
   "source": [
    "answer = concatenate([response, question_encoded])\n",
    "answer.shape"
   ]
  },
  {
   "cell_type": "code",
   "execution_count": 25,
   "metadata": {},
   "outputs": [],
   "source": [
    "answer = LSTM(units=32)(answer)"
   ]
  },
  {
   "cell_type": "code",
   "execution_count": 26,
   "metadata": {},
   "outputs": [
    {
     "data": {
      "text/plain": [
       "<tf.Tensor 'dense_1/BiasAdd:0' shape=(None, 38) dtype=float32>"
      ]
     },
     "execution_count": 26,
     "metadata": {},
     "output_type": "execute_result"
    }
   ],
   "source": [
    "answer = Dropout(0.5)(answer)\n",
    "answer = Dense(vocab_len)(answer)   #(samples,vocab_size)\n",
    "answer"
   ]
  },
  {
   "cell_type": "code",
   "execution_count": 27,
   "metadata": {},
   "outputs": [],
   "source": [
    "answer = Activation('softmax')(answer)"
   ]
  },
  {
   "cell_type": "code",
   "execution_count": 28,
   "metadata": {},
   "outputs": [],
   "source": [
    "model = Model([input_sequence,question], answer)"
   ]
  },
  {
   "cell_type": "code",
   "execution_count": 29,
   "metadata": {},
   "outputs": [],
   "source": [
    "model.compile(optimizer='rmsprop', loss='categorical_crossentropy', metrics=['accuracy'])"
   ]
  },
  {
   "cell_type": "code",
   "execution_count": 30,
   "metadata": {},
   "outputs": [
    {
     "name": "stdout",
     "output_type": "stream",
     "text": [
      "Model: \"model_1\"\n",
      "__________________________________________________________________________________________________\n",
      "Layer (type)                    Output Shape         Param #     Connected to                     \n",
      "==================================================================================================\n",
      "input_1 (InputLayer)            (None, 156)          0                                            \n",
      "__________________________________________________________________________________________________\n",
      "input_2 (InputLayer)            (None, 6)            0                                            \n",
      "__________________________________________________________________________________________________\n",
      "sequential_1 (Sequential)       multiple             2432        input_1[0][0]                    \n",
      "__________________________________________________________________________________________________\n",
      "sequential_3 (Sequential)       (None, 6, 64)        2432        input_2[0][0]                    \n",
      "__________________________________________________________________________________________________\n",
      "dot_1 (Dot)                     (None, 156, 6)       0           sequential_1[1][0]               \n",
      "                                                                 sequential_3[1][0]               \n",
      "__________________________________________________________________________________________________\n",
      "activation_1 (Activation)       (None, 156, 6)       0           dot_1[0][0]                      \n",
      "__________________________________________________________________________________________________\n",
      "sequential_2 (Sequential)       multiple             228         input_1[0][0]                    \n",
      "__________________________________________________________________________________________________\n",
      "add_1 (Add)                     (None, 156, 6)       0           activation_1[0][0]               \n",
      "                                                                 sequential_2[1][0]               \n",
      "__________________________________________________________________________________________________\n",
      "permute_1 (Permute)             (None, 6, 156)       0           add_1[0][0]                      \n",
      "__________________________________________________________________________________________________\n",
      "concatenate_1 (Concatenate)     (None, 6, 220)       0           permute_1[0][0]                  \n",
      "                                                                 sequential_3[1][0]               \n",
      "__________________________________________________________________________________________________\n",
      "lstm_1 (LSTM)                   (None, 32)           32384       concatenate_1[0][0]              \n",
      "__________________________________________________________________________________________________\n",
      "dropout_4 (Dropout)             (None, 32)           0           lstm_1[0][0]                     \n",
      "__________________________________________________________________________________________________\n",
      "dense_1 (Dense)                 (None, 38)           1254        dropout_4[0][0]                  \n",
      "__________________________________________________________________________________________________\n",
      "activation_2 (Activation)       (None, 38)           0           dense_1[0][0]                    \n",
      "==================================================================================================\n",
      "Total params: 38,730\n",
      "Trainable params: 38,730\n",
      "Non-trainable params: 0\n",
      "__________________________________________________________________________________________________\n"
     ]
    }
   ],
   "source": [
    "model.summary()"
   ]
  },
  {
   "cell_type": "code",
   "execution_count": 31,
   "metadata": {},
   "outputs": [
    {
     "name": "stderr",
     "output_type": "stream",
     "text": [
      "/home/kaml/anaconda3/lib/python3.7/site-packages/tensorflow_core/python/framework/indexed_slices.py:424: UserWarning: Converting sparse IndexedSlices to a dense Tensor of unknown shape. This may consume a large amount of memory.\n",
      "  \"Converting sparse IndexedSlices to a dense Tensor of unknown shape. \"\n"
     ]
    },
    {
     "name": "stdout",
     "output_type": "stream",
     "text": [
      "Epoch 1/200\n",
      "10000/10000 [==============================] - 5s 545us/step - loss: 1.0383 - accuracy: 0.4897\n",
      "Epoch 2/200\n",
      "10000/10000 [==============================] - 4s 438us/step - loss: 0.7178 - accuracy: 0.5071\n",
      "Epoch 3/200\n",
      "10000/10000 [==============================] - 4s 375us/step - loss: 0.6986 - accuracy: 0.5063\n",
      "Epoch 4/200\n",
      "10000/10000 [==============================] - 4s 403us/step - loss: 0.6964 - accuracy: 0.4911\n",
      "Epoch 5/200\n",
      "10000/10000 [==============================] - 4s 392us/step - loss: 0.6946 - accuracy: 0.5012\n",
      "Epoch 6/200\n",
      "10000/10000 [==============================] - 4s 390us/step - loss: 0.6949 - accuracy: 0.4930\n",
      "Epoch 7/200\n",
      "10000/10000 [==============================] - 4s 365us/step - loss: 0.6943 - accuracy: 0.5033\n",
      "Epoch 8/200\n",
      "10000/10000 [==============================] - 4s 376us/step - loss: 0.6944 - accuracy: 0.5059\n",
      "Epoch 9/200\n",
      "10000/10000 [==============================] - 4s 368us/step - loss: 0.6947 - accuracy: 0.4956\n",
      "Epoch 10/200\n",
      "10000/10000 [==============================] - 4s 363us/step - loss: 0.6947 - accuracy: 0.4985\n",
      "Epoch 11/200\n",
      "10000/10000 [==============================] - 4s 351us/step - loss: 0.6944 - accuracy: 0.5022\n",
      "Epoch 12/200\n",
      "10000/10000 [==============================] - 3s 345us/step - loss: 0.6946 - accuracy: 0.4866\n",
      "Epoch 13/200\n",
      "10000/10000 [==============================] - 4s 377us/step - loss: 0.6938 - accuracy: 0.4997\n",
      "Epoch 14/200\n",
      "10000/10000 [==============================] - 4s 356us/step - loss: 0.6944 - accuracy: 0.4984\n",
      "Epoch 15/200\n",
      "10000/10000 [==============================] - 4s 369us/step - loss: 0.6934 - accuracy: 0.5048\n",
      "Epoch 16/200\n",
      "10000/10000 [==============================] - 4s 393us/step - loss: 0.6935 - accuracy: 0.5064\n",
      "Epoch 17/200\n",
      "10000/10000 [==============================] - 4s 376us/step - loss: 0.6912 - accuracy: 0.5155\n",
      "Epoch 18/200\n",
      "10000/10000 [==============================] - 4s 393us/step - loss: 0.6716 - accuracy: 0.5839\n",
      "Epoch 19/200\n",
      "10000/10000 [==============================] - 4s 401us/step - loss: 0.5555 - accuracy: 0.7367\n",
      "Epoch 20/200\n",
      "10000/10000 [==============================] - 4s 379us/step - loss: 0.4546 - accuracy: 0.8052\n",
      "Epoch 21/200\n",
      "10000/10000 [==============================] - 4s 377us/step - loss: 0.4081 - accuracy: 0.8320\n",
      "Epoch 22/200\n",
      "10000/10000 [==============================] - 4s 363us/step - loss: 0.3877 - accuracy: 0.8424\n",
      "Epoch 23/200\n",
      "10000/10000 [==============================] - 4s 378us/step - loss: 0.3803 - accuracy: 0.8455\n",
      "Epoch 24/200\n",
      "10000/10000 [==============================] - 6s 588us/step - loss: 0.3707 - accuracy: 0.8499\n",
      "Epoch 25/200\n",
      "10000/10000 [==============================] - 4s 437us/step - loss: 0.3602 - accuracy: 0.8522\n",
      "Epoch 26/200\n",
      "10000/10000 [==============================] - 4s 411us/step - loss: 0.3518 - accuracy: 0.8574\n",
      "Epoch 27/200\n",
      "10000/10000 [==============================] - 4s 392us/step - loss: 0.3455 - accuracy: 0.8574\n",
      "Epoch 28/200\n",
      "10000/10000 [==============================] - 4s 401us/step - loss: 0.3390 - accuracy: 0.8589\n",
      "Epoch 29/200\n",
      "10000/10000 [==============================] - 5s 493us/step - loss: 0.3366 - accuracy: 0.8589\n",
      "Epoch 30/200\n",
      "10000/10000 [==============================] - 4s 398us/step - loss: 0.3338 - accuracy: 0.8613\n",
      "Epoch 31/200\n",
      "10000/10000 [==============================] - 4s 403us/step - loss: 0.3259 - accuracy: 0.8659\n",
      "Epoch 32/200\n",
      "10000/10000 [==============================] - 4s 387us/step - loss: 0.3241 - accuracy: 0.8652\n",
      "Epoch 33/200\n",
      "10000/10000 [==============================] - 4s 370us/step - loss: 0.3215 - accuracy: 0.8655\n",
      "Epoch 34/200\n",
      "10000/10000 [==============================] - 4s 438us/step - loss: 0.3174 - accuracy: 0.8614\n",
      "Epoch 35/200\n",
      "10000/10000 [==============================] - 4s 431us/step - loss: 0.3144 - accuracy: 0.8652\n",
      "Epoch 36/200\n",
      "10000/10000 [==============================] - 4s 431us/step - loss: 0.3111 - accuracy: 0.8655\n",
      "Epoch 37/200\n",
      "10000/10000 [==============================] - 4s 419us/step - loss: 0.3068 - accuracy: 0.8692\n",
      "Epoch 38/200\n",
      "10000/10000 [==============================] - 4s 391us/step - loss: 0.3099 - accuracy: 0.8664\n",
      "Epoch 39/200\n",
      "10000/10000 [==============================] - 4s 406us/step - loss: 0.3068 - accuracy: 0.8655\n",
      "Epoch 40/200\n",
      "10000/10000 [==============================] - 4s 392us/step - loss: 0.3079 - accuracy: 0.8643\n",
      "Epoch 41/200\n",
      "10000/10000 [==============================] - 4s 404us/step - loss: 0.3056 - accuracy: 0.8673\n",
      "Epoch 42/200\n",
      "10000/10000 [==============================] - 4s 413us/step - loss: 0.3017 - accuracy: 0.8695\n",
      "Epoch 43/200\n",
      "10000/10000 [==============================] - 5s 525us/step - loss: 0.3047 - accuracy: 0.8686\n",
      "Epoch 44/200\n",
      "10000/10000 [==============================] - 4s 431us/step - loss: 0.2997 - accuracy: 0.8713\n",
      "Epoch 45/200\n",
      "10000/10000 [==============================] - 5s 475us/step - loss: 0.2998 - accuracy: 0.8673\n",
      "Epoch 46/200\n",
      "10000/10000 [==============================] - 4s 438us/step - loss: 0.2996 - accuracy: 0.8683\n",
      "Epoch 47/200\n",
      "10000/10000 [==============================] - 4s 438us/step - loss: 0.2969 - accuracy: 0.8703\n",
      "Epoch 48/200\n",
      "10000/10000 [==============================] - 4s 427us/step - loss: 0.2965 - accuracy: 0.8706\n",
      "Epoch 49/200\n",
      "10000/10000 [==============================] - 4s 414us/step - loss: 0.2967 - accuracy: 0.8691\n",
      "Epoch 50/200\n",
      "10000/10000 [==============================] - 5s 474us/step - loss: 0.2926 - accuracy: 0.8711\n",
      "Epoch 51/200\n",
      "10000/10000 [==============================] - 5s 550us/step - loss: 0.2934 - accuracy: 0.8726\n",
      "Epoch 52/200\n",
      "10000/10000 [==============================] - 5s 505us/step - loss: 0.2891 - accuracy: 0.8720\n",
      "Epoch 53/200\n",
      "10000/10000 [==============================] - 5s 476us/step - loss: 0.2882 - accuracy: 0.8730\n",
      "Epoch 54/200\n",
      "10000/10000 [==============================] - 4s 425us/step - loss: 0.2889 - accuracy: 0.8718\n",
      "Epoch 55/200\n",
      "10000/10000 [==============================] - 5s 489us/step - loss: 0.2897 - accuracy: 0.8709\n",
      "Epoch 56/200\n",
      "10000/10000 [==============================] - 8s 754us/step - loss: 0.2881 - accuracy: 0.8719\n",
      "Epoch 57/200\n",
      "10000/10000 [==============================] - 6s 573us/step - loss: 0.2892 - accuracy: 0.8716\n",
      "Epoch 58/200\n",
      "10000/10000 [==============================] - 7s 654us/step - loss: 0.2853 - accuracy: 0.8736\n",
      "Epoch 59/200\n",
      "10000/10000 [==============================] - 7s 710us/step - loss: 0.2823 - accuracy: 0.8718\n",
      "Epoch 60/200\n",
      "10000/10000 [==============================] - 6s 635us/step - loss: 0.2845 - accuracy: 0.8758\n",
      "Epoch 61/200\n",
      "10000/10000 [==============================] - 6s 630us/step - loss: 0.2823 - accuracy: 0.8778\n",
      "Epoch 62/200\n",
      "10000/10000 [==============================] - 6s 619us/step - loss: 0.2801 - accuracy: 0.8773\n",
      "Epoch 63/200\n",
      "10000/10000 [==============================] - 6s 641us/step - loss: 0.2771 - accuracy: 0.8804\n",
      "Epoch 64/200\n",
      "10000/10000 [==============================] - 4s 436us/step - loss: 0.2785 - accuracy: 0.8776\n",
      "Epoch 65/200\n",
      "10000/10000 [==============================] - 5s 542us/step - loss: 0.2791 - accuracy: 0.8754\n",
      "Epoch 66/200\n",
      "10000/10000 [==============================] - 5s 485us/step - loss: 0.2789 - accuracy: 0.8779\n",
      "Epoch 67/200\n",
      "10000/10000 [==============================] - 4s 431us/step - loss: 0.2777 - accuracy: 0.8743\n",
      "Epoch 68/200\n",
      "10000/10000 [==============================] - 4s 422us/step - loss: 0.2742 - accuracy: 0.8794\n",
      "Epoch 69/200\n",
      "10000/10000 [==============================] - 4s 430us/step - loss: 0.2734 - accuracy: 0.8796\n",
      "Epoch 70/200\n",
      "10000/10000 [==============================] - 5s 520us/step - loss: 0.2776 - accuracy: 0.8766\n",
      "Epoch 71/200\n",
      "10000/10000 [==============================] - 4s 436us/step - loss: 0.2711 - accuracy: 0.8783\n",
      "Epoch 72/200\n",
      "10000/10000 [==============================] - 4s 388us/step - loss: 0.2727 - accuracy: 0.8819\n",
      "Epoch 73/200\n",
      "10000/10000 [==============================] - 4s 393us/step - loss: 0.2695 - accuracy: 0.8828\n",
      "Epoch 74/200\n",
      "10000/10000 [==============================] - 4s 415us/step - loss: 0.2662 - accuracy: 0.8810\n",
      "Epoch 75/200\n",
      "10000/10000 [==============================] - 4s 391us/step - loss: 0.2642 - accuracy: 0.8855\n",
      "Epoch 76/200\n",
      "10000/10000 [==============================] - 4s 386us/step - loss: 0.2660 - accuracy: 0.8808\n"
     ]
    },
    {
     "name": "stdout",
     "output_type": "stream",
     "text": [
      "Epoch 77/200\n",
      "10000/10000 [==============================] - 4s 386us/step - loss: 0.2665 - accuracy: 0.8816\n",
      "Epoch 78/200\n",
      "10000/10000 [==============================] - 4s 369us/step - loss: 0.2602 - accuracy: 0.8847\n",
      "Epoch 79/200\n",
      "10000/10000 [==============================] - 4s 360us/step - loss: 0.2659 - accuracy: 0.8849\n",
      "Epoch 80/200\n",
      "10000/10000 [==============================] - 4s 367us/step - loss: 0.2619 - accuracy: 0.8833\n",
      "Epoch 81/200\n",
      "10000/10000 [==============================] - 4s 374us/step - loss: 0.2635 - accuracy: 0.8834\n",
      "Epoch 82/200\n",
      "10000/10000 [==============================] - 4s 378us/step - loss: 0.2577 - accuracy: 0.8865\n",
      "Epoch 83/200\n",
      "10000/10000 [==============================] - 4s 379us/step - loss: 0.2563 - accuracy: 0.8889\n",
      "Epoch 84/200\n",
      "10000/10000 [==============================] - 4s 378us/step - loss: 0.2559 - accuracy: 0.8905\n",
      "Epoch 85/200\n",
      "10000/10000 [==============================] - 4s 372us/step - loss: 0.2597 - accuracy: 0.8866\n",
      "Epoch 86/200\n",
      "10000/10000 [==============================] - 4s 364us/step - loss: 0.2612 - accuracy: 0.8855\n",
      "Epoch 87/200\n",
      "10000/10000 [==============================] - 4s 375us/step - loss: 0.2556 - accuracy: 0.8861\n",
      "Epoch 88/200\n",
      "10000/10000 [==============================] - 4s 380us/step - loss: 0.2575 - accuracy: 0.8847\n",
      "Epoch 89/200\n",
      "10000/10000 [==============================] - 4s 401us/step - loss: 0.2567 - accuracy: 0.8885\n",
      "Epoch 90/200\n",
      "10000/10000 [==============================] - 4s 377us/step - loss: 0.2586 - accuracy: 0.8854\n",
      "Epoch 91/200\n",
      "10000/10000 [==============================] - 4s 372us/step - loss: 0.2497 - accuracy: 0.8879\n",
      "Epoch 92/200\n",
      "10000/10000 [==============================] - 3s 346us/step - loss: 0.2488 - accuracy: 0.8898\n",
      "Epoch 93/200\n",
      "10000/10000 [==============================] - 4s 358us/step - loss: 0.2492 - accuracy: 0.8916\n",
      "Epoch 94/200\n",
      "10000/10000 [==============================] - 4s 397us/step - loss: 0.2464 - accuracy: 0.8902\n",
      "Epoch 95/200\n",
      "10000/10000 [==============================] - 4s 431us/step - loss: 0.2462 - accuracy: 0.8911\n",
      "Epoch 96/200\n",
      "10000/10000 [==============================] - 4s 431us/step - loss: 0.2434 - accuracy: 0.8895\n",
      "Epoch 97/200\n",
      "10000/10000 [==============================] - 4s 437us/step - loss: 0.2444 - accuracy: 0.8928\n",
      "Epoch 98/200\n",
      "10000/10000 [==============================] - 5s 489us/step - loss: 0.2451 - accuracy: 0.8950\n",
      "Epoch 99/200\n",
      "10000/10000 [==============================] - 4s 395us/step - loss: 0.2422 - accuracy: 0.8944\n",
      "Epoch 100/200\n",
      "10000/10000 [==============================] - 4s 376us/step - loss: 0.2438 - accuracy: 0.8950\n",
      "Epoch 101/200\n",
      "10000/10000 [==============================] - 4s 372us/step - loss: 0.2402 - accuracy: 0.8928\n",
      "Epoch 102/200\n",
      "10000/10000 [==============================] - 4s 365us/step - loss: 0.2417 - accuracy: 0.8941\n",
      "Epoch 103/200\n",
      "10000/10000 [==============================] - 4s 411us/step - loss: 0.2383 - accuracy: 0.8951\n",
      "Epoch 104/200\n",
      "10000/10000 [==============================] - 4s 380us/step - loss: 0.2373 - accuracy: 0.8951\n",
      "Epoch 105/200\n",
      "10000/10000 [==============================] - 4s 418us/step - loss: 0.2350 - accuracy: 0.8964\n",
      "Epoch 106/200\n",
      "10000/10000 [==============================] - 4s 413us/step - loss: 0.2371 - accuracy: 0.8980\n",
      "Epoch 107/200\n",
      "10000/10000 [==============================] - 4s 432us/step - loss: 0.2352 - accuracy: 0.8967\n",
      "Epoch 108/200\n",
      "10000/10000 [==============================] - 4s 442us/step - loss: 0.2372 - accuracy: 0.8953\n",
      "Epoch 109/200\n",
      "10000/10000 [==============================] - 4s 435us/step - loss: 0.2328 - accuracy: 0.8970\n",
      "Epoch 110/200\n",
      "10000/10000 [==============================] - 4s 409us/step - loss: 0.2229 - accuracy: 0.9033\n",
      "Epoch 111/200\n",
      "10000/10000 [==============================] - 5s 518us/step - loss: 0.2280 - accuracy: 0.9005\n",
      "Epoch 112/200\n",
      "10000/10000 [==============================] - 4s 422us/step - loss: 0.2326 - accuracy: 0.9002\n",
      "Epoch 113/200\n",
      "10000/10000 [==============================] - 4s 387us/step - loss: 0.2323 - accuracy: 0.8972\n",
      "Epoch 114/200\n",
      "10000/10000 [==============================] - 4s 367us/step - loss: 0.2262 - accuracy: 0.9000\n",
      "Epoch 115/200\n",
      "10000/10000 [==============================] - 4s 371us/step - loss: 0.2233 - accuracy: 0.9039\n",
      "Epoch 116/200\n",
      "10000/10000 [==============================] - 4s 364us/step - loss: 0.2258 - accuracy: 0.9019\n",
      "Epoch 117/200\n",
      "10000/10000 [==============================] - 4s 430us/step - loss: 0.2194 - accuracy: 0.9057\n",
      "Epoch 118/200\n",
      "10000/10000 [==============================] - 4s 395us/step - loss: 0.2259 - accuracy: 0.9004\n",
      "Epoch 119/200\n",
      "10000/10000 [==============================] - 4s 357us/step - loss: 0.2147 - accuracy: 0.9031\n",
      "Epoch 120/200\n",
      "10000/10000 [==============================] - 4s 379us/step - loss: 0.2236 - accuracy: 0.9048\n",
      "Epoch 121/200\n",
      "10000/10000 [==============================] - 4s 388us/step - loss: 0.2149 - accuracy: 0.9066\n",
      "Epoch 122/200\n",
      "10000/10000 [==============================] - 4s 367us/step - loss: 0.2161 - accuracy: 0.9025\n",
      "Epoch 123/200\n",
      "10000/10000 [==============================] - 4s 383us/step - loss: 0.2181 - accuracy: 0.9063\n",
      "Epoch 124/200\n",
      "10000/10000 [==============================] - 4s 384us/step - loss: 0.2127 - accuracy: 0.9080\n",
      "Epoch 125/200\n",
      "10000/10000 [==============================] - 4s 381us/step - loss: 0.2143 - accuracy: 0.9058\n",
      "Epoch 126/200\n",
      "10000/10000 [==============================] - 4s 386us/step - loss: 0.2105 - accuracy: 0.9051\n",
      "Epoch 127/200\n",
      "10000/10000 [==============================] - 4s 407us/step - loss: 0.2149 - accuracy: 0.9068\n",
      "Epoch 128/200\n",
      "10000/10000 [==============================] - 4s 374us/step - loss: 0.2089 - accuracy: 0.9086\n",
      "Epoch 129/200\n",
      "10000/10000 [==============================] - 4s 373us/step - loss: 0.2071 - accuracy: 0.9086\n",
      "Epoch 130/200\n",
      "10000/10000 [==============================] - 4s 395us/step - loss: 0.2067 - accuracy: 0.9104\n",
      "Epoch 131/200\n",
      "10000/10000 [==============================] - 4s 392us/step - loss: 0.2064 - accuracy: 0.9088\n",
      "Epoch 132/200\n",
      "10000/10000 [==============================] - 4s 408us/step - loss: 0.2022 - accuracy: 0.9124\n",
      "Epoch 133/200\n",
      "10000/10000 [==============================] - 4s 427us/step - loss: 0.2052 - accuracy: 0.9124\n",
      "Epoch 134/200\n",
      "10000/10000 [==============================] - 4s 380us/step - loss: 0.2005 - accuracy: 0.9161\n",
      "Epoch 135/200\n",
      "10000/10000 [==============================] - 4s 421us/step - loss: 0.1963 - accuracy: 0.9133\n",
      "Epoch 136/200\n",
      "10000/10000 [==============================] - 5s 476us/step - loss: 0.1971 - accuracy: 0.9156\n",
      "Epoch 137/200\n",
      "10000/10000 [==============================] - 5s 451us/step - loss: 0.1957 - accuracy: 0.9182\n",
      "Epoch 138/200\n",
      "10000/10000 [==============================] - 4s 434us/step - loss: 0.1944 - accuracy: 0.9192\n",
      "Epoch 139/200\n",
      "10000/10000 [==============================] - 4s 449us/step - loss: 0.1930 - accuracy: 0.9206\n",
      "Epoch 140/200\n",
      "10000/10000 [==============================] - 4s 387us/step - loss: 0.1914 - accuracy: 0.9207\n",
      "Epoch 141/200\n",
      "10000/10000 [==============================] - 5s 461us/step - loss: 0.1923 - accuracy: 0.9166\n",
      "Epoch 142/200\n",
      "10000/10000 [==============================] - 4s 423us/step - loss: 0.1924 - accuracy: 0.9176\n",
      "Epoch 143/200\n",
      "10000/10000 [==============================] - 4s 434us/step - loss: 0.1852 - accuracy: 0.9233\n",
      "Epoch 144/200\n",
      "10000/10000 [==============================] - 5s 492us/step - loss: 0.1868 - accuracy: 0.9198\n",
      "Epoch 145/200\n",
      "10000/10000 [==============================] - 4s 443us/step - loss: 0.1856 - accuracy: 0.9212\n",
      "Epoch 146/200\n",
      "10000/10000 [==============================] - 5s 490us/step - loss: 0.1914 - accuracy: 0.9195\n",
      "Epoch 147/200\n",
      "10000/10000 [==============================] - 5s 480us/step - loss: 0.1862 - accuracy: 0.9187\n",
      "Epoch 148/200\n",
      "10000/10000 [==============================] - 5s 457us/step - loss: 0.1741 - accuracy: 0.9261\n",
      "Epoch 149/200\n",
      "10000/10000 [==============================] - 4s 418us/step - loss: 0.1784 - accuracy: 0.9259\n",
      "Epoch 150/200\n",
      "10000/10000 [==============================] - 4s 420us/step - loss: 0.1837 - accuracy: 0.9235\n",
      "Epoch 151/200\n",
      "10000/10000 [==============================] - 4s 419us/step - loss: 0.1793 - accuracy: 0.9278\n",
      "Epoch 152/200\n"
     ]
    },
    {
     "name": "stdout",
     "output_type": "stream",
     "text": [
      "10000/10000 [==============================] - 4s 422us/step - loss: 0.1753 - accuracy: 0.9241\n",
      "Epoch 153/200\n",
      "10000/10000 [==============================] - 4s 374us/step - loss: 0.1700 - accuracy: 0.9268\n",
      "Epoch 154/200\n",
      "10000/10000 [==============================] - 4s 359us/step - loss: 0.1735 - accuracy: 0.9256\n",
      "Epoch 155/200\n",
      "10000/10000 [==============================] - 4s 420us/step - loss: 0.1791 - accuracy: 0.9276\n",
      "Epoch 156/200\n",
      "10000/10000 [==============================] - 4s 420us/step - loss: 0.1677 - accuracy: 0.9290\n",
      "Epoch 157/200\n",
      "10000/10000 [==============================] - 4s 388us/step - loss: 0.1729 - accuracy: 0.9267\n",
      "Epoch 158/200\n",
      "10000/10000 [==============================] - 4s 394us/step - loss: 0.1694 - accuracy: 0.9290\n",
      "Epoch 159/200\n",
      "10000/10000 [==============================] - 4s 404us/step - loss: 0.1633 - accuracy: 0.9337\n",
      "Epoch 160/200\n",
      "10000/10000 [==============================] - 4s 393us/step - loss: 0.1633 - accuracy: 0.9328\n",
      "Epoch 161/200\n",
      "10000/10000 [==============================] - 4s 416us/step - loss: 0.1614 - accuracy: 0.9315\n",
      "Epoch 162/200\n",
      "10000/10000 [==============================] - 4s 417us/step - loss: 0.1683 - accuracy: 0.9319\n",
      "Epoch 163/200\n",
      "10000/10000 [==============================] - 4s 409us/step - loss: 0.1633 - accuracy: 0.9297\n",
      "Epoch 164/200\n",
      "10000/10000 [==============================] - 4s 416us/step - loss: 0.1629 - accuracy: 0.9348\n",
      "Epoch 165/200\n",
      "10000/10000 [==============================] - 4s 398us/step - loss: 0.1615 - accuracy: 0.9337\n",
      "Epoch 166/200\n",
      "10000/10000 [==============================] - 4s 409us/step - loss: 0.1521 - accuracy: 0.9357\n",
      "Epoch 167/200\n",
      "10000/10000 [==============================] - 4s 393us/step - loss: 0.1519 - accuracy: 0.9374\n",
      "Epoch 168/200\n",
      "10000/10000 [==============================] - 4s 412us/step - loss: 0.1537 - accuracy: 0.9383\n",
      "Epoch 169/200\n",
      "10000/10000 [==============================] - 4s 404us/step - loss: 0.1523 - accuracy: 0.9379\n",
      "Epoch 170/200\n",
      "10000/10000 [==============================] - 4s 400us/step - loss: 0.1598 - accuracy: 0.9365\n",
      "Epoch 171/200\n",
      "10000/10000 [==============================] - 4s 410us/step - loss: 0.1536 - accuracy: 0.9401\n",
      "Epoch 172/200\n",
      "10000/10000 [==============================] - 4s 405us/step - loss: 0.1536 - accuracy: 0.9397\n",
      "Epoch 173/200\n",
      "10000/10000 [==============================] - 4s 420us/step - loss: 0.1531 - accuracy: 0.9385\n",
      "Epoch 174/200\n",
      "10000/10000 [==============================] - 4s 399us/step - loss: 0.1512 - accuracy: 0.9386\n",
      "Epoch 175/200\n",
      "10000/10000 [==============================] - 4s 431us/step - loss: 0.1461 - accuracy: 0.9432\n",
      "Epoch 176/200\n",
      "10000/10000 [==============================] - 5s 516us/step - loss: 0.1503 - accuracy: 0.9411\n",
      "Epoch 177/200\n",
      "10000/10000 [==============================] - 5s 453us/step - loss: 0.1505 - accuracy: 0.9394\n",
      "Epoch 178/200\n",
      "10000/10000 [==============================] - 5s 509us/step - loss: 0.1483 - accuracy: 0.9419\n",
      "Epoch 179/200\n",
      "10000/10000 [==============================] - 5s 501us/step - loss: 0.1470 - accuracy: 0.9438\n",
      "Epoch 180/200\n",
      "10000/10000 [==============================] - 4s 423us/step - loss: 0.1439 - accuracy: 0.9419\n",
      "Epoch 181/200\n",
      "10000/10000 [==============================] - 4s 393us/step - loss: 0.1440 - accuracy: 0.9419\n",
      "Epoch 182/200\n",
      "10000/10000 [==============================] - 4s 388us/step - loss: 0.1387 - accuracy: 0.9453\n",
      "Epoch 183/200\n",
      "10000/10000 [==============================] - 4s 417us/step - loss: 0.1387 - accuracy: 0.9470\n",
      "Epoch 184/200\n",
      "10000/10000 [==============================] - 5s 537us/step - loss: 0.1438 - accuracy: 0.9439\n",
      "Epoch 185/200\n",
      "10000/10000 [==============================] - 6s 598us/step - loss: 0.1432 - accuracy: 0.9446\n",
      "Epoch 186/200\n",
      "10000/10000 [==============================] - 6s 614us/step - loss: 0.1385 - accuracy: 0.9448\n",
      "Epoch 187/200\n",
      "10000/10000 [==============================] - 5s 474us/step - loss: 0.1403 - accuracy: 0.9451\n",
      "Epoch 188/200\n",
      "10000/10000 [==============================] - 6s 555us/step - loss: 0.1399 - accuracy: 0.9461\n",
      "Epoch 189/200\n",
      "10000/10000 [==============================] - 6s 598us/step - loss: 0.1367 - accuracy: 0.9450\n",
      "Epoch 190/200\n",
      "10000/10000 [==============================] - 6s 588us/step - loss: 0.1345 - accuracy: 0.9456\n",
      "Epoch 191/200\n",
      "10000/10000 [==============================] - 6s 552us/step - loss: 0.1324 - accuracy: 0.9493\n",
      "Epoch 192/200\n",
      "10000/10000 [==============================] - 5s 538us/step - loss: 0.1328 - accuracy: 0.9497\n",
      "Epoch 193/200\n",
      "10000/10000 [==============================] - 6s 608us/step - loss: 0.1291 - accuracy: 0.9492\n",
      "Epoch 194/200\n",
      "10000/10000 [==============================] - 6s 554us/step - loss: 0.1297 - accuracy: 0.9494\n",
      "Epoch 195/200\n",
      "10000/10000 [==============================] - 4s 444us/step - loss: 0.1306 - accuracy: 0.9490\n",
      "Epoch 196/200\n",
      "10000/10000 [==============================] - 5s 486us/step - loss: 0.1238 - accuracy: 0.9508\n",
      "Epoch 197/200\n",
      "10000/10000 [==============================] - 5s 485us/step - loss: 0.1255 - accuracy: 0.9511\n",
      "Epoch 198/200\n",
      "10000/10000 [==============================] - 5s 469us/step - loss: 0.1377 - accuracy: 0.9479\n",
      "Epoch 199/200\n",
      "10000/10000 [==============================] - 4s 423us/step - loss: 0.1258 - accuracy: 0.9510\n",
      "Epoch 200/200\n",
      "10000/10000 [==============================] - 4s 417us/step - loss: 0.1312 - accuracy: 0.9493\n"
     ]
    }
   ],
   "source": [
    "history = model.fit([train_story_seq, train_question_seq], train_answer_oh, batch_size=50, epochs=200)"
   ]
  },
  {
   "cell_type": "code",
   "execution_count": 32,
   "metadata": {},
   "outputs": [],
   "source": [
    "# filename = 'chatbot_120_epochs.h5'\n",
    "filename = 'chatbot_200_epochs.h5'\n",
    "model.save(filename)"
   ]
  },
  {
   "cell_type": "code",
   "execution_count": 33,
   "metadata": {},
   "outputs": [],
   "source": [
    "from keras.models import load_model"
   ]
  },
  {
   "cell_type": "code",
   "execution_count": 34,
   "metadata": {},
   "outputs": [
    {
     "name": "stderr",
     "output_type": "stream",
     "text": [
      "/home/kaml/anaconda3/lib/python3.7/site-packages/tensorflow_core/python/framework/indexed_slices.py:424: UserWarning: Converting sparse IndexedSlices to a dense Tensor of unknown shape. This may consume a large amount of memory.\n",
      "  \"Converting sparse IndexedSlices to a dense Tensor of unknown shape. \"\n"
     ]
    }
   ],
   "source": [
    "model = load_model('chatbot_200_epochs.h5')"
   ]
  },
  {
   "cell_type": "code",
   "execution_count": 35,
   "metadata": {},
   "outputs": [
    {
     "name": "stdout",
     "output_type": "stream",
     "text": [
      "dict_keys(['loss', 'accuracy'])\n"
     ]
    },
    {
     "data": {
      "image/png": "[encoded data removed]",
      "text/plain": [
       "<Figure size 432x288 with 1 Axes>"
      ]
     },
     "metadata": {
      "needs_background": "light"
     },
     "output_type": "display_data"
    }
   ],
   "source": [
    "import matplotlib.pyplot as plt\n",
    "%matplotlib inline\n",
    "print(history.history.keys())\n",
    "plt.plot(history.history['accuracy'])\n",
    "plt.plot(history.history['loss'])\n",
    "plt.title('model accyracy')\n",
    "plt.xlabel('epoch')\n",
    "plt.ylabel('accuracy')\n",
    "plt.legend(['accuracy', 'loss'])\n",
    "plt.show()"
   ]
  },
  {
   "cell_type": "code",
   "execution_count": 37,
   "metadata": {},
   "outputs": [],
   "source": [
    "predictions = model.predict([test_story_seq, test_question_seq])"
   ]
  },
  {
   "cell_type": "code",
   "execution_count": 38,
   "metadata": {},
   "outputs": [
    {
     "data": {
      "text/plain": [
       "(1000, 38)"
      ]
     },
     "execution_count": 38,
     "metadata": {},
     "output_type": "execute_result"
    }
   ],
   "source": [
    "predictions.shape"
   ]
  },
  {
   "cell_type": "code",
   "execution_count": 39,
   "metadata": {},
   "outputs": [],
   "source": [
    "predicted_answers = []\n",
    "for i in range(len(test_data)):\n",
    "    val_max = np.argmax(predictions[i])\n",
    "    for key, val in tokenizer.word_index.items():\n",
    "        if val == val_max:\n",
    "            predicted_answers.append(key)"
   ]
  },
  {
   "cell_type": "code",
   "execution_count": 40,
   "metadata": {},
   "outputs": [],
   "source": [
    "for i in range(len(test_data)):   \n",
    "    if predicted_answers[i] == 'yes':\n",
    "        predicted_answers[i] = 1.0\n",
    "    else:\n",
    "        predicted_answers[i] = 0.0"
   ]
  },
  {
   "cell_type": "code",
   "execution_count": 41,
   "metadata": {},
   "outputs": [],
   "source": [
    "for i in range(len(test_data)):   \n",
    "    if test_answer_text[i] == 'yes':\n",
    "        test_answer_text[i] = 1.0\n",
    "    else:\n",
    "        test_answer_text[i] = 0.0"
   ]
  },
  {
   "cell_type": "code",
   "execution_count": 42,
   "metadata": {},
   "outputs": [
    {
     "name": "stdout",
     "output_type": "stream",
     "text": [
      "0.865\n"
     ]
    }
   ],
   "source": [
    "correct_ans = 0\n",
    "for i in range(len(test_data)):\n",
    "    if predicted_answers[i] == test_answer_text[i]:\n",
    "        correct_ans += 1\n",
    "        \n",
    "accuracy = correct_ans / len(test_data)\n",
    "print(accuracy)"
   ]
  },
  {
   "cell_type": "code",
   "execution_count": 52,
   "metadata": {},
   "outputs": [],
   "source": [
    "my_story = [[]]   #ATTENTION!!! Must be a list of lists\n",
    "my_story[0] = (\"John is in the kitchen.\").split()\n",
    "my_story_seq = tokenizer.texts_to_sequences(my_story)\n",
    "my_story_seq = pad_sequences(my_story_seq, maxlen=max_story_len)"
   ]
  },
  {
   "cell_type": "code",
   "execution_count": 54,
   "metadata": {},
   "outputs": [],
   "source": [
    "my_question = [[]]\n",
    "my_question[0] = ('Is John in the bathroom?').split()\n",
    "my_question_seq = tokenizer.texts_to_sequences(my_question)\n",
    "my_question_seq = pad_sequences(my_question_seq, maxlen=max_question_len)"
   ]
  },
  {
   "cell_type": "code",
   "execution_count": 55,
   "metadata": {},
   "outputs": [],
   "source": [
    "my_prediction = model.predict([my_story_seq, my_question_seq])"
   ]
  },
  {
   "cell_type": "code",
   "execution_count": 56,
   "metadata": {},
   "outputs": [
    {
     "data": {
      "text/plain": [
       "(1, 38)"
      ]
     },
     "execution_count": 56,
     "metadata": {},
     "output_type": "execute_result"
    }
   ],
   "source": [
    "my_prediction.shape"
   ]
  },
  {
   "cell_type": "code",
   "execution_count": 57,
   "metadata": {},
   "outputs": [
    {
     "data": {
      "text/plain": [
       "30"
      ]
     },
     "execution_count": 57,
     "metadata": {},
     "output_type": "execute_result"
    }
   ],
   "source": [
    "my_val_max = np.argmax(my_prediction)\n",
    "my_val_max"
   ]
  },
  {
   "cell_type": "code",
   "execution_count": 58,
   "metadata": {},
   "outputs": [
    {
     "name": "stdout",
     "output_type": "stream",
     "text": [
      "yes\n"
     ]
    }
   ],
   "source": [
    "for key, val in tokenizer.word_index.items():\n",
    "    if val == my_val_max:\n",
    "        k = key\n",
    "print(k)"
   ]
  },
  {
   "cell_type": "markdown",
   "metadata": {},
   "source": [
    "**FAIL**"
   ]
  }
 ],
 "metadata": {
  "kernelspec": {
   "display_name": "Python 3",
   "language": "python",
   "name": "python3"
  },
  "language_info": {
   "codemirror_mode": {
    "name": "ipython",
    "version": 3
   },
   "file_extension": ".py",
   "mimetype": "text/x-python",
   "name": "python",
   "nbconvert_exporter": "python",
   "pygments_lexer": "ipython3",
   "version": "3.7.4"
  }
 },
 "nbformat": 4,
 "nbformat_minor": 2
}
